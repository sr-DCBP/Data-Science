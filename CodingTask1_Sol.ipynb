{
  "nbformat": 4,
  "nbformat_minor": 0,
  "metadata": {
    "colab": {
      "name": "CodingTask1-Sol.ipynb",
      "provenance": [],
      "include_colab_link": true
    },
    "kernelspec": {
      "name": "python3",
      "display_name": "Python 3"
    },
    "language_info": {
      "name": "python"
    }
  },
  "cells": [
    {
      "cell_type": "markdown",
      "metadata": {
        "id": "view-in-github",
        "colab_type": "text"
      },
      "source": [
        "<a href=\"https://colab.research.google.com/github/sr-DCBP/Data-Science/blob/main/CodingTask1_Sol.ipynb\" target=\"_parent\"><img src=\"https://colab.research.google.com/assets/colab-badge.svg\" alt=\"Open In Colab\"/></a>"
      ]
    },
    {
      "cell_type": "markdown",
      "source": [
        "Data Science Fundamentals for DCBP, S. Haug, University of Bern "
      ],
      "metadata": {
        "id": "_-1mhuoK6uqC"
      }
    },
    {
      "cell_type": "markdown",
      "source": [
        "# Coding Task 1\n",
        "\n",
        "- Deadline (upload to Ilias): 2022-03-20 24:00\n",
        "- Estimated effort: 2-5 hours\n",
        "- Data on Ilias (4ms_...) with metadata file CCD-Metadata\n"
      ],
      "metadata": {
        "id": "gn4RkUC66-ou"
      }
    },
    {
      "cell_type": "markdown",
      "source": [
        "## Tasks (maximum 12.5 points)"
      ],
      "metadata": {
        "id": "KYKF2iS56v1z"
      }
    },
    {
      "cell_type": "markdown",
      "source": [
        "1. Write a method (function) which removes the header information in the \n",
        "datafile and saves that information into a separate textfile. [0.5 points] \n",
        "2. Write a function which reduces the data resolution by averaging over 1, 2, 3 and 4 nm wavelengths. Save these 4 new reduced datasets in new files. Do this (1) by writing an explicit loop and (2) by using pandas methods. Measure the running times of the two approaches. [6 points]\n",
        "3. Write a function which takes two wavelengths as input and plots the difference of the data at these lengths over time. [2 points] \n",
        "4.Let the x-axis be in seconds, label the axes with names and units, label the plot with color and legend, make a title for the plot. Save the plot to a file. [2 points]\n",
        "5.Plot the full and the reduced datasets in the same figure. Is there any visual difference? [2 points]\n"
      ],
      "metadata": {
        "id": "rXqhhPMu9aPx"
      }
    },
    {
      "cell_type": "markdown",
      "source": [
        "### Task 1"
      ],
      "metadata": {
        "id": "7YznKf3UJHNb"
      }
    },
    {
      "cell_type": "code",
      "source": [
        "from google.colab import drive\n",
        "drive.mount('/content/drive')\n",
        "path = '/content/drive/MyDrive/Courses/DSF-DCBP/Data-CCD/4ms_10 av_30 s_Absorbance_10-32-04-868.txt'"
      ],
      "metadata": {
        "id": "dMt-351sR-y-"
      },
      "execution_count": null,
      "outputs": []
    },
    {
      "cell_type": "code",
      "source": [
        "import pandas as pd\n",
        "df = pd.read_csv(path, delimiter='\\t', header=13) # the \\t means tab. The data table starts at line 13\n",
        "df.to_csv('stripped_data.csv') # save df to a new file"
      ],
      "metadata": {
        "id": "5xUmJjPnR_Kc"
      },
      "execution_count": null,
      "outputs": []
    },
    {
      "cell_type": "code",
      "source": [
        "#df.iloc[0,1780:1950]"
      ],
      "metadata": {
        "id": "OwOxySnC5XrH"
      },
      "execution_count": null,
      "outputs": []
    },
    {
      "cell_type": "markdown",
      "source": [
        "### Task 2.1\n",
        "\n",
        "We simplify the task a little bit and just assumes 7 wavelengths per nm. The number actually vary a bit, from 6-8 or so."
      ],
      "metadata": {
        "id": "wsBnZ9kLR_VJ"
      }
    },
    {
      "cell_type": "code",
      "source": [
        "#df.iloc[0,50:80]"
      ],
      "metadata": {
        "id": "AjyB6uvdnx7T"
      },
      "execution_count": null,
      "outputs": []
    },
    {
      "cell_type": "code",
      "source": [
        "#%%timeit r=1 \n",
        "def dfReduce(dfR,n):\n",
        "  for i in range(0,df.shape[0]):\n",
        "    s   = 2\n",
        "    t   = 2\n",
        "    for j in range(s,df.shape[-1],n):\n",
        "      if (s+n)>df.shape[-1]: n=df.shape[-1]-s\n",
        "      sum = 0.0\n",
        "      for k in range(s,s+n):\n",
        "        sum+= dfR.iloc[i,k]\n",
        "      dfR.iloc[i,t]=sum/n\n",
        "      #print(t,dfR.iloc[i,s])\n",
        "      s +=n\n",
        "      t +=1\n",
        "  return dfR.iloc[:,0:t]\n",
        "i=7\n",
        "#for fname in ['dfR1.csv']:  # ,'dfR2.csv','dfR3.csv','dfR4.csv']:\n",
        "  dfR = df.copy()\n",
        "  dfR = dfReduce(dfR,i)\n",
        "  i += 7  # About 7 wavelengths per nm\n",
        "  dfR.to_csv(fname)"
      ],
      "metadata": {
        "id": "L1SI3vyujo4G"
      },
      "execution_count": null,
      "outputs": []
    },
    {
      "cell_type": "markdown",
      "source": [
        "###Task 2.2"
      ],
      "metadata": {
        "id": "S9XqFVRcSFsh"
      }
    },
    {
      "cell_type": "code",
      "source": [
        "#%%timeit -r 1\n",
        "def dfRed(fname,n):\n",
        "  new_df = df.copy()\n",
        "  new_df = new_df.iloc[:,2:-1]\n",
        "  new_df = new_df.groupby([[i//n for i in range(0,new_df.shape[-1])]], axis = 1).mean()\n",
        "  new_df.insert(0,'Time', (df.iloc[:,1]-df.iloc[0,1])/1000)\n",
        "  new_df.to_csv(fname)\n",
        "  return new_df\n",
        "for i in range(1,2): dfr = dfRed('dfR'+str(i)+'.csv',i*7)\n",
        "dfr.head()"
      ],
      "metadata": {
        "id": "3cgDUbsXSFuG"
      },
      "execution_count": null,
      "outputs": []
    },
    {
      "cell_type": "markdown",
      "source": [
        "### Task 3"
      ],
      "metadata": {
        "id": "4GKu8PFtSFyB"
      }
    },
    {
      "cell_type": "code",
      "source": [
        "import matplotlib.pyplot as plt\n",
        "def plotWaveLengthDiff(a,b):\n",
        "  x = df.iloc[:,0]\n",
        "  y = -(df.iloc[:,b]-df.iloc[:,a])\n",
        "  plt.plot(x,y)\n",
        "  return 0\n",
        "# I give column numbers instead of wavelengths, i.e. instead of column names\n",
        "plotWaveLengthDiff(1750,1950)"
      ],
      "metadata": {
        "id": "IgGtdVgNBWyP"
      },
      "execution_count": null,
      "outputs": []
    },
    {
      "cell_type": "markdown",
      "source": [
        "### Task 4"
      ],
      "metadata": {
        "id": "U0GzSrZWhTab"
      }
    },
    {
      "cell_type": "code",
      "source": [
        "b = 1950\n",
        "a = 1750\n",
        "for i in [1,7,14,21,28]:\n",
        "df1 = dfRed('dfR1.csv',i)\n",
        "x = df1.iloc[:,0]\n",
        "y = -(df1.iloc[:,b]-df1.iloc[:,a])\n",
        "plt.plot(x,y,c='r',label='redline')\n",
        "plt.xlabel('Time / s')\n",
        "plt.ylabel('What is the unit here?')\n",
        "plt.title('Difference betwwen wavelength columns '+str(b)+' and '+str(a))\n",
        "plt.legend()\n",
        "plt.savefig('myplot.png')"
      ],
      "metadata": {
        "id": "X6SEJ1mjiOmi"
      },
      "execution_count": null,
      "outputs": []
    },
    {
      "cell_type": "code",
      "source": [
        "%ls -l"
      ],
      "metadata": {
        "id": "pFUCz5OA5fjw"
      },
      "execution_count": null,
      "outputs": []
    },
    {
      "cell_type": "code",
      "source": [
        "b = 1950\n",
        "a = 1750\n",
        "for i in [1,7]: #,14,21,28]: # higher column grouping gives funny plots, so only for two first\n",
        "  b=int(b/i)\n",
        "  a=int(a/i)\n",
        "  df1 = dfRed('dfR1.csv',i)\n",
        "  x = df1.iloc[:,0]\n",
        "  y = -(df1.iloc[:,b]-df1.iloc[:,a])\n",
        "  if i == 1:\n",
        "    col='r'\n",
        "  elif i == 7:\n",
        "    col='b'\n",
        "  plt.plot(x,y,c=col,label=str(i))"
      ],
      "metadata": {
        "id": "XuWHAyQ66WQ9"
      },
      "execution_count": null,
      "outputs": []
    },
    {
      "cell_type": "markdown",
      "source": [
        "There is a difference between the not compressed and the compressed data. Does it have to do with the not exact wavelength transformation when compressing or is it a real difference. We would have to investigate further. "
      ],
      "metadata": {
        "id": "kJOgadZ1_vIw"
      }
    }
  ]
}