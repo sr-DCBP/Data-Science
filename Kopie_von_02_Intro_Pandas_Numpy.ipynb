{
  "nbformat": 4,
  "nbformat_minor": 0,
  "metadata": {
    "colab": {
      "name": "Kopie von 02-Intro_Pandas_Numpy.ipynb",
      "provenance": [],
      "collapsed_sections": [],
      "include_colab_link": true
    },
    "kernelspec": {
      "name": "python3",
      "display_name": "Python 3"
    }
  },
  "cells": [
    {
      "cell_type": "markdown",
      "metadata": {
        "id": "view-in-github",
        "colab_type": "text"
      },
      "source": [
        "<a href=\"https://colab.research.google.com/github/sr-DCBP/Data-Science/blob/main/Kopie_von_02_Intro_Pandas_Numpy.ipynb\" target=\"_parent\"><img src=\"https://colab.research.google.com/assets/colab-badge.svg\" alt=\"Open In Colab\"/></a>"
      ]
    },
    {
      "cell_type": "markdown",
      "source": [
        "# 1. Pandas and Numpy"
      ],
      "metadata": {
        "id": "1a_Gy0cT_da8"
      }
    },
    {
      "cell_type": "markdown",
      "metadata": {
        "id": "58HlKuYlwfeY"
      },
      "source": [
        "\n",
        "Python has several built-in types of data structures such as lists and dictionaries, but none of them allows you to efficiently do computations on large lists or tables of data. The Numpy and Pandas libraries fill this gap by providing 1) specific data structures on which one can efficiently compute and 2) functions to perform the computations on these structures.\n",
        "\n",
        "Numpy is the core scientific computing library on which virtually all other scientific Python packages are building (except for deep learning libraries). This includes notably Scipy, a package offering numerical routines for optimization, regression etc. that will be used in the last series of lectures.\n",
        "\n",
        "Pandas, which itself builds on top of Numpy, is the core data science library on which higher level libraries (e.g. for plotting) are building. \n",
        "\n",
        "Here we briefly present the main data structure offered by Pandas, the **DataFrame** and then show how the data in DataFrames are actually **arrays**, the main data structure of Numpy. This allows us in the next notebooks to explore Numpy before coming back at the end of the course to Pandas.\n",
        "\n",
        "Let's first import both Pandas and Numpy. Both have very commonly used abbreviations ```np``` and ```pd``` that you should use as well to simplify your life. Note that most sub-modules are directly accessible and you won't have to import specific ones as migth be the case for other libraries."
      ]
    },
    {
      "cell_type": "code",
      "metadata": {
        "id": "Wj9o0gDqvu3i"
      },
      "source": [
        "import pandas as pd\n",
        "import numpy as np"
      ],
      "execution_count": null,
      "outputs": []
    },
    {
      "cell_type": "markdown",
      "source": [
        "## Importing data"
      ],
      "metadata": {
        "id": "dAJwRYrJ_pQx"
      }
    },
    {
      "cell_type": "markdown",
      "metadata": {
        "id": "daLzb8zpxkGZ"
      },
      "source": [
        "Just like any other library, Pandas offers functionality through the *dot-notation* (as e.g. in ```math.cos()```). When surveying usage of Pandas in places like GitHub, it turns out that the most used function is the one allowing one to import a CSV (comma-separated values). Indeed while we could import tabular data with the ```read``` function, this becomes quickly cumbersome for complex data and Pandas takes care of all details for us. \n"
      ]
    },
    {
      "cell_type": "markdown",
      "metadata": {
        "id": "l7WZpmVl5isP"
      },
      "source": [
        "### read_*** functions\n",
        "\n",
        "As an example we import here the file available [here](https://github.com/KingaS03/Introduction-to-Python/blob/master/Homework/country_vaccinations.xls). If we look at the file we see that even though it has an .xls extension, it is in fact just a CSV file. Pandas has many importing functions and we use here ```read_csv```. You can see the list of all available importers by typing ```pd.read_``` and seeing options from autocomplete.\n",
        "\n",
        "We can either download the file and indicate the file path or directly *read* it from the web (*Note that on GitHub you need to use the [raw](https://raw.githubusercontent.com/KingaS03/Introduction-to-Python/master/Homework/country_vaccinations.xls) version of the file to download it*)"
      ]
    },
    {
      "cell_type": "markdown",
      "source": [
        "```\n",
        "url = 'https://raw.githubusercontent.com/KingaS03/Introduction-to-Python/master/Homework/country_vaccinations.xls'\n",
        "vaccine = pd.read_csv(url)\n",
        "```"
      ],
      "metadata": {
        "id": "xzhJ68RFvwU5"
      }
    },
    {
      "cell_type": "code",
      "source": [
        ""
      ],
      "metadata": {
        "id": "ySb3DYwW6ppr"
      },
      "execution_count": null,
      "outputs": []
    },
    {
      "cell_type": "markdown",
      "metadata": {
        "id": "mfolWD-P4BBg"
      },
      "source": [
        "Let's first see what this object is:"
      ]
    },
    {
      "cell_type": "markdown",
      "source": [
        "```\n",
        "type(vaccine)\n",
        "```"
      ],
      "metadata": {
        "id": "Pvrppa_M4aNO"
      }
    },
    {
      "cell_type": "code",
      "source": [
        ""
      ],
      "metadata": {
        "id": "YMJY_ZMM7YBp"
      },
      "execution_count": null,
      "outputs": []
    },
    {
      "cell_type": "markdown",
      "metadata": {
        "id": "MgHzkxFd4cn4"
      },
      "source": [
        "We see that we are dealing with a DataFrame, the two-dimensional data structure offered by Pandas. If we just execute a cell with that variable we can display the first lines:"
      ]
    },
    {
      "cell_type": "markdown",
      "source": [
        "```\n",
        "vaccine\n",
        "```"
      ],
      "metadata": {
        "id": "ZE700boZ4bDv"
      }
    },
    {
      "cell_type": "code",
      "source": [
        ""
      ],
      "metadata": {
        "id": "wsCCINAU7FAh"
      },
      "execution_count": null,
      "outputs": []
    },
    {
      "cell_type": "markdown",
      "metadata": {
        "id": "cJJ81NGK42fG"
      },
      "source": [
        "We see that we are dealing with tabular data of various types: we have text (e.g. countries), dates and numbers. Just like in a tabular sheet, each column has a label and each line has an index (column in bold on the left), so that every element can be located with these *coordinates*.\n",
        "\n",
        "## Methods attached to dataframes\n",
        "\n",
        "We have seen before that every variable in Python has a series of functions attached to it (methods). For example if we have a text variable (string) we can e.g. split it at a given place:"
      ]
    },
    {
      "cell_type": "markdown",
      "source": [
        "```\n",
        "my_string = 'This is a sentence with spaces.'\n",
        "my_string.split(' ')\n",
        "```"
      ],
      "metadata": {
        "id": "8Agw1WO14wYu"
      }
    },
    {
      "cell_type": "code",
      "source": [
        "\n"
      ],
      "metadata": {
        "id": "2_zTrIod7qOA"
      },
      "execution_count": null,
      "outputs": []
    },
    {
      "cell_type": "markdown",
      "metadata": {
        "id": "CgSGrjzZ6JtO"
      },
      "source": [
        "The same logic applies to Pandas DataFrames and in general to any new variable that is created by a given package: they all come with a series of methods attached to them.\n",
        "\n",
        "For example if we only want to display the fist 5 lines of the DataFrame, we can use the ```head``` method:"
      ]
    },
    {
      "cell_type": "markdown",
      "source": [
        "vaccine.head(5)"
      ],
      "metadata": {
        "id": "8V5lYBN85_TO"
      }
    },
    {
      "cell_type": "code",
      "source": [
        ""
      ],
      "metadata": {
        "id": "wE3u7Htm86Y0"
      },
      "execution_count": null,
      "outputs": []
    },
    {
      "cell_type": "markdown",
      "metadata": {
        "id": "BNuROR_d6htS"
      },
      "source": [
        "We will learn later how to extract statistics, but just as an example of functions that exsit, you can for example get a basic statistical description of a DataFrame using the ```describe``` method:"
      ]
    },
    {
      "cell_type": "markdown",
      "source": [
        "vaccine.describe()"
      ],
      "metadata": {
        "id": "1UT83ZNq6Uzy"
      }
    },
    {
      "cell_type": "code",
      "source": [
        ""
      ],
      "metadata": {
        "id": "7YyRNIC68_H6"
      },
      "execution_count": null,
      "outputs": []
    },
    {
      "cell_type": "markdown",
      "metadata": {
        "id": "6gQcF8NQ6uZe"
      },
      "source": [
        "We see that in this particular case, the returned object is a DataFrame as well!\n",
        "\n",
        "## Accessing columns\n",
        "\n",
        "If we want to work with only a given column from a dataframe, we can extract it. Just like when we want to extract an element from a regular list, e.g. ```my_list[3]```, for Pandas we also use the square parenthesis (brackets) but this time with the name of the column:"
      ]
    },
    {
      "cell_type": "markdown",
      "source": [
        "```\n",
        "some_column = vaccine['daily_vaccinations']\n",
        "some_column\n",
        "```"
      ],
      "metadata": {
        "id": "GBOj3B5r6giA"
      }
    },
    {
      "cell_type": "code",
      "source": [
        ""
      ],
      "metadata": {
        "id": "RlEiBDuS9EGT"
      },
      "execution_count": null,
      "outputs": []
    },
    {
      "cell_type": "markdown",
      "metadata": {
        "id": "I2QOrlxG_hwq"
      },
      "source": [
        "As we have a single columns here, we are not dealing with a DataFrame anymore but with a Series:"
      ]
    },
    {
      "cell_type": "markdown",
      "source": [
        "type(some_column)"
      ],
      "metadata": {
        "id": "lEKnBjNS-x8l"
      }
    },
    {
      "cell_type": "code",
      "source": [
        ""
      ],
      "metadata": {
        "id": "onr5TS6P9OHZ"
      },
      "execution_count": null,
      "outputs": []
    },
    {
      "cell_type": "markdown",
      "metadata": {
        "id": "qy1TSUsq_vjj"
      },
      "source": [
        "We won't explore much the Series object on its own in this course, but know that you can for example create a DataFrame from scratch by combining multiple Series.\n",
        "\n",
        "## What is underlying Pandas\n",
        "\n",
        "We see above that ```some_column``` is composed of and index (0, 1, 2 etc) and the corresponding values (NaN, 64.0, 64.0 etc.). If we want to do mathematics with those values, we don't really need the index and a list of numbers would be sufficient. We can obtain such a list by asking for the ```values``` of the series:"
      ]
    },
    {
      "cell_type": "markdown",
      "source": [
        "```actual_values = some_column.values\n",
        "actual_values\n",
        "```"
      ],
      "metadata": {
        "id": "kbW0VZx1_pap"
      }
    },
    {
      "cell_type": "code",
      "source": [
        ""
      ],
      "metadata": {
        "id": "2U7rOHOV9Tyy"
      },
      "execution_count": null,
      "outputs": []
    },
    {
      "cell_type": "markdown",
      "metadata": {
        "id": "HBOCZwuCAwR0"
      },
      "source": [
        "We see that the output is not just a simple Python list. It is in fact called an ```array```. If we ask for the type of this object, we get:"
      ]
    },
    {
      "cell_type": "markdown",
      "source": [
        "type(actual_values)"
      ],
      "metadata": {
        "id": "RDGVdnsuArRh"
      }
    },
    {
      "cell_type": "code",
      "source": [
        ""
      ],
      "metadata": {
        "id": "IBDGquJE9bBq"
      },
      "execution_count": null,
      "outputs": []
    },
    {
      "cell_type": "markdown",
      "metadata": {
        "id": "i8P0PD2ZA-Nt"
      },
      "source": [
        "The lists of values contained in Pandas DataFrame are in fact Numpy arrays. A large part of the computing logic in Pandas is inspired from Numpy, therefore we now make a detour to Numpy before coming back to DataFrames."
      ]
    },
    {
      "cell_type": "markdown",
      "source": [
        "## Exercise"
      ],
      "metadata": {
        "id": "cJesRq30VoQo"
      }
    },
    {
      "cell_type": "markdown",
      "metadata": {
        "id": "5Iosdk-tYtsd"
      },
      "source": [
        "\n",
        "1. In the Data folder on Ilias there is the data file 4ms_10 av_30 s_Absorbance_10-32-04-868.txt. Upload this file to a folder on your google drive. If you don't have a google account, make it now. Look at the file by clicking on it. Try to make sense of the data with the help of the metadata file also in the Ilias folder. \n",
        "\n",
        "2. Mount the file to this your notebook (example code below). The path and the file name must match the ones on your google drive, of course.\n"
      ]
    },
    {
      "cell_type": "code",
      "source": [
        "from google.colab import drive\n",
        "drive.mount('/content/drive')\n",
        "path = '/content/drive/MyDrive/Data science/Absorbance.txt' \n",
        "header=13 # To be adapted"
      ],
      "metadata": {
        "id": "DYR4iYYhI0gH",
        "outputId": "50e91e08-b0e0-4863-d3fd-701eba727270",
        "colab": {
          "base_uri": "https://localhost:8080/"
        }
      },
      "execution_count": null,
      "outputs": [
        {
          "output_type": "stream",
          "name": "stdout",
          "text": [
            "Drive already mounted at /content/drive; to attempt to forcibly remount, call drive.mount(\"/content/drive\", force_remount=True).\n"
          ]
        }
      ]
    },
    {
      "cell_type": "markdown",
      "source": [
        "3. Study and play with the code below. Try to understand based on the API description (https://pandas.pydata.org/docs/reference/api/pandas.read_csv.html). Hint: Use the header argument."
      ],
      "metadata": {
        "id": "bHMdX664RcQ9"
      }
    },
    {
      "cell_type": "code",
      "metadata": {
        "id": "jc8tXuIDYuX2",
        "outputId": "a8809fb6-64e6-4730-886e-361ecc59e3ea",
        "colab": {
          "base_uri": "https://localhost:8080/"
        }
      },
      "source": [
        "import pandas as pd\n",
        "df = pd.read_csv(path, delimiter='\\t', header=13)\n",
        "print(df)"
      ],
      "execution_count": null,
      "outputs": [
        {
          "output_type": "stream",
          "name": "stdout",
          "text": [
            "                     Unnamed: 0     Unnamed: 1  ...  779.9194  780.0381\n",
            "0    2018-10-25 10:32:04.789000  1540456324789  ... -0.039100 -0.035545\n",
            "1    2018-10-25 10:32:04.878000  1540456324878  ... -0.040210 -0.038165\n",
            "2    2018-10-25 10:32:04.962000  1540456324962  ... -0.038686 -0.036903\n",
            "3    2018-10-25 10:32:05.046000  1540456325046  ... -0.038203 -0.036822\n",
            "4    2018-10-25 10:32:05.129000  1540456325129  ... -0.038082 -0.035900\n",
            "..                          ...            ...  ...       ...       ...\n",
            "350  2018-10-25 10:32:34.404000  1540456354404  ... -0.037451 -0.033582\n",
            "351  2018-10-25 10:32:34.488000  1540456354488  ... -0.038338 -0.035408\n",
            "352  2018-10-25 10:32:34.576000  1540456354576  ... -0.038006 -0.035039\n",
            "353  2018-10-25 10:32:34.660000  1540456354660  ... -0.037560 -0.034496\n",
            "354  2018-10-25 10:32:34.744000  1540456354744  ... -0.036334 -0.034725\n",
            "\n",
            "[355 rows x 3650 columns]\n"
          ]
        }
      ]
    },
    {
      "cell_type": "markdown",
      "source": [
        "4. Study this dataset a bit with the df.head(), df.info() and df.describe() methods. The available metadata is [here](https://docs.google.com/document/d/1L6m4OFiCKSHlHlr4_4TFKLKHcJfIkiMhHtD3tcsxpD8/edit?usp=sharing)"
      ],
      "metadata": {
        "id": "V-hJAIi5R69m"
      }
    },
    {
      "cell_type": "code",
      "source": [
        "df.head()"
      ],
      "metadata": {
        "id": "mJ1eSjLTAB7n",
        "outputId": "4b251170-71cb-4eef-f202-14a6ecc974bb",
        "colab": {
          "base_uri": "https://localhost:8080/",
          "height": 386
        }
      },
      "execution_count": null,
      "outputs": [
        {
          "output_type": "execute_result",
          "data": {
            "text/html": [
              "\n",
              "  <div id=\"df-3ed95328-c7f2-466b-ae7a-8a6331a40519\">\n",
              "    <div class=\"colab-df-container\">\n",
              "      <div>\n",
              "<style scoped>\n",
              "    .dataframe tbody tr th:only-of-type {\n",
              "        vertical-align: middle;\n",
              "    }\n",
              "\n",
              "    .dataframe tbody tr th {\n",
              "        vertical-align: top;\n",
              "    }\n",
              "\n",
              "    .dataframe thead th {\n",
              "        text-align: right;\n",
              "    }\n",
              "</style>\n",
              "<table border=\"1\" class=\"dataframe\">\n",
              "  <thead>\n",
              "    <tr style=\"text-align: right;\">\n",
              "      <th></th>\n",
              "      <th>Unnamed: 0</th>\n",
              "      <th>Unnamed: 1</th>\n",
              "      <th>316.6137</th>\n",
              "      <th>316.7492</th>\n",
              "      <th>316.8847</th>\n",
              "      <th>317.0203</th>\n",
              "      <th>317.1558</th>\n",
              "      <th>317.2913</th>\n",
              "      <th>317.4268</th>\n",
              "      <th>317.5623</th>\n",
              "      <th>317.6977</th>\n",
              "      <th>317.8332</th>\n",
              "      <th>317.9687</th>\n",
              "      <th>318.1042</th>\n",
              "      <th>318.2397</th>\n",
              "      <th>318.3751</th>\n",
              "      <th>318.5106</th>\n",
              "      <th>318.646</th>\n",
              "      <th>318.7815</th>\n",
              "      <th>318.9169</th>\n",
              "      <th>319.0524</th>\n",
              "      <th>319.1878</th>\n",
              "      <th>319.3232</th>\n",
              "      <th>319.4587</th>\n",
              "      <th>319.5941</th>\n",
              "      <th>319.7295</th>\n",
              "      <th>319.8649</th>\n",
              "      <th>320.0003</th>\n",
              "      <th>320.1358</th>\n",
              "      <th>320.2712</th>\n",
              "      <th>320.4065</th>\n",
              "      <th>320.5419</th>\n",
              "      <th>320.6773</th>\n",
              "      <th>320.8127</th>\n",
              "      <th>320.9481</th>\n",
              "      <th>321.0835</th>\n",
              "      <th>321.2188</th>\n",
              "      <th>321.3542</th>\n",
              "      <th>321.4896</th>\n",
              "      <th>321.6249</th>\n",
              "      <th>...</th>\n",
              "      <th>775.4085</th>\n",
              "      <th>775.5273</th>\n",
              "      <th>775.6461</th>\n",
              "      <th>775.7649</th>\n",
              "      <th>775.8836</th>\n",
              "      <th>776.0024</th>\n",
              "      <th>776.1212</th>\n",
              "      <th>776.24</th>\n",
              "      <th>776.3587</th>\n",
              "      <th>776.4775</th>\n",
              "      <th>776.5962</th>\n",
              "      <th>776.715</th>\n",
              "      <th>776.8337</th>\n",
              "      <th>776.9525</th>\n",
              "      <th>777.0712</th>\n",
              "      <th>777.1899</th>\n",
              "      <th>777.3087</th>\n",
              "      <th>777.4274</th>\n",
              "      <th>777.5461</th>\n",
              "      <th>777.6648</th>\n",
              "      <th>777.7835</th>\n",
              "      <th>777.9022</th>\n",
              "      <th>778.0209</th>\n",
              "      <th>778.1396</th>\n",
              "      <th>778.2583</th>\n",
              "      <th>778.377</th>\n",
              "      <th>778.4957</th>\n",
              "      <th>778.6143</th>\n",
              "      <th>778.733</th>\n",
              "      <th>778.8517</th>\n",
              "      <th>778.9703</th>\n",
              "      <th>779.089</th>\n",
              "      <th>779.2076</th>\n",
              "      <th>779.3263</th>\n",
              "      <th>779.4449</th>\n",
              "      <th>779.5636</th>\n",
              "      <th>779.6822</th>\n",
              "      <th>779.8008</th>\n",
              "      <th>779.9194</th>\n",
              "      <th>780.0381</th>\n",
              "    </tr>\n",
              "  </thead>\n",
              "  <tbody>\n",
              "    <tr>\n",
              "      <th>0</th>\n",
              "      <td>2018-10-25 10:32:04.789000</td>\n",
              "      <td>1540456324789</td>\n",
              "      <td>0.329672</td>\n",
              "      <td>0.329672</td>\n",
              "      <td>0.329672</td>\n",
              "      <td>0.090294</td>\n",
              "      <td>-0.716926</td>\n",
              "      <td>-1.829304</td>\n",
              "      <td>-0.686330</td>\n",
              "      <td>-0.428776</td>\n",
              "      <td>1.740363</td>\n",
              "      <td>-0.000000</td>\n",
              "      <td>0.495019</td>\n",
              "      <td>-0.054882</td>\n",
              "      <td>-0.00000</td>\n",
              "      <td>-0.000000</td>\n",
              "      <td>-0.478378</td>\n",
              "      <td>-0.092673</td>\n",
              "      <td>-0.0</td>\n",
              "      <td>0.172712</td>\n",
              "      <td>-0.153593</td>\n",
              "      <td>0.380834</td>\n",
              "      <td>0.547939</td>\n",
              "      <td>-0.000000</td>\n",
              "      <td>-0.112704</td>\n",
              "      <td>0.269431</td>\n",
              "      <td>-0.000000</td>\n",
              "      <td>0.402441</td>\n",
              "      <td>-0.000000</td>\n",
              "      <td>-0.000000</td>\n",
              "      <td>-0.000000</td>\n",
              "      <td>-0.020308</td>\n",
              "      <td>-0.000000</td>\n",
              "      <td>0.607509</td>\n",
              "      <td>-0.000000</td>\n",
              "      <td>0.250914</td>\n",
              "      <td>-0.790822</td>\n",
              "      <td>0.407966</td>\n",
              "      <td>-0.621516</td>\n",
              "      <td>-0.377167</td>\n",
              "      <td>...</td>\n",
              "      <td>-0.036456</td>\n",
              "      <td>-0.035688</td>\n",
              "      <td>-0.034940</td>\n",
              "      <td>-0.038391</td>\n",
              "      <td>-0.038846</td>\n",
              "      <td>-0.038413</td>\n",
              "      <td>-0.041153</td>\n",
              "      <td>-0.037331</td>\n",
              "      <td>-0.038670</td>\n",
              "      <td>-0.038662</td>\n",
              "      <td>-0.038429</td>\n",
              "      <td>-0.039760</td>\n",
              "      <td>-0.038206</td>\n",
              "      <td>-0.038891</td>\n",
              "      <td>-0.038710</td>\n",
              "      <td>-0.038267</td>\n",
              "      <td>-0.038163</td>\n",
              "      <td>-0.036252</td>\n",
              "      <td>-0.039213</td>\n",
              "      <td>-0.037831</td>\n",
              "      <td>-0.037478</td>\n",
              "      <td>-0.039245</td>\n",
              "      <td>-0.039212</td>\n",
              "      <td>-0.037823</td>\n",
              "      <td>-0.038343</td>\n",
              "      <td>-0.036600</td>\n",
              "      <td>-0.038325</td>\n",
              "      <td>-0.036159</td>\n",
              "      <td>-0.038942</td>\n",
              "      <td>-0.041108</td>\n",
              "      <td>-0.038483</td>\n",
              "      <td>-0.039623</td>\n",
              "      <td>-0.036920</td>\n",
              "      <td>-0.037309</td>\n",
              "      <td>-0.037299</td>\n",
              "      <td>-0.037476</td>\n",
              "      <td>-0.036856</td>\n",
              "      <td>-0.036853</td>\n",
              "      <td>-0.039100</td>\n",
              "      <td>-0.035545</td>\n",
              "    </tr>\n",
              "    <tr>\n",
              "      <th>1</th>\n",
              "      <td>2018-10-25 10:32:04.878000</td>\n",
              "      <td>1540456324878</td>\n",
              "      <td>-0.044412</td>\n",
              "      <td>-0.044412</td>\n",
              "      <td>-0.044412</td>\n",
              "      <td>0.157632</td>\n",
              "      <td>-0.672423</td>\n",
              "      <td>-2.183981</td>\n",
              "      <td>-0.492421</td>\n",
              "      <td>-0.000000</td>\n",
              "      <td>-0.695800</td>\n",
              "      <td>-0.000000</td>\n",
              "      <td>0.592280</td>\n",
              "      <td>-0.375559</td>\n",
              "      <td>-0.00000</td>\n",
              "      <td>-0.314073</td>\n",
              "      <td>-0.007488</td>\n",
              "      <td>-0.000000</td>\n",
              "      <td>-0.0</td>\n",
              "      <td>-0.237182</td>\n",
              "      <td>1.583722</td>\n",
              "      <td>0.193000</td>\n",
              "      <td>0.084848</td>\n",
              "      <td>13.594523</td>\n",
              "      <td>-0.648721</td>\n",
              "      <td>-0.130030</td>\n",
              "      <td>-0.446490</td>\n",
              "      <td>-0.260711</td>\n",
              "      <td>-1.017033</td>\n",
              "      <td>-1.892095</td>\n",
              "      <td>-0.000000</td>\n",
              "      <td>0.364334</td>\n",
              "      <td>-0.335792</td>\n",
              "      <td>-0.000000</td>\n",
              "      <td>0.038782</td>\n",
              "      <td>0.311405</td>\n",
              "      <td>-0.534160</td>\n",
              "      <td>0.925651</td>\n",
              "      <td>-0.367482</td>\n",
              "      <td>-0.000000</td>\n",
              "      <td>...</td>\n",
              "      <td>-0.035232</td>\n",
              "      <td>-0.036579</td>\n",
              "      <td>-0.036452</td>\n",
              "      <td>-0.039194</td>\n",
              "      <td>-0.037604</td>\n",
              "      <td>-0.039715</td>\n",
              "      <td>-0.040819</td>\n",
              "      <td>-0.038924</td>\n",
              "      <td>-0.037685</td>\n",
              "      <td>-0.037591</td>\n",
              "      <td>-0.037728</td>\n",
              "      <td>-0.041512</td>\n",
              "      <td>-0.037832</td>\n",
              "      <td>-0.039280</td>\n",
              "      <td>-0.038821</td>\n",
              "      <td>-0.037591</td>\n",
              "      <td>-0.036860</td>\n",
              "      <td>-0.036574</td>\n",
              "      <td>-0.039089</td>\n",
              "      <td>-0.039673</td>\n",
              "      <td>-0.038825</td>\n",
              "      <td>-0.039768</td>\n",
              "      <td>-0.037161</td>\n",
              "      <td>-0.036756</td>\n",
              "      <td>-0.038481</td>\n",
              "      <td>-0.036805</td>\n",
              "      <td>-0.036087</td>\n",
              "      <td>-0.038862</td>\n",
              "      <td>-0.039666</td>\n",
              "      <td>-0.038127</td>\n",
              "      <td>-0.039428</td>\n",
              "      <td>-0.038486</td>\n",
              "      <td>-0.037309</td>\n",
              "      <td>-0.036357</td>\n",
              "      <td>-0.037289</td>\n",
              "      <td>-0.038728</td>\n",
              "      <td>-0.037214</td>\n",
              "      <td>-0.036902</td>\n",
              "      <td>-0.040210</td>\n",
              "      <td>-0.038165</td>\n",
              "    </tr>\n",
              "    <tr>\n",
              "      <th>2</th>\n",
              "      <td>2018-10-25 10:32:04.962000</td>\n",
              "      <td>1540456324962</td>\n",
              "      <td>0.338219</td>\n",
              "      <td>0.338219</td>\n",
              "      <td>0.338219</td>\n",
              "      <td>0.330993</td>\n",
              "      <td>-0.879836</td>\n",
              "      <td>-0.000000</td>\n",
              "      <td>-0.559845</td>\n",
              "      <td>-0.000000</td>\n",
              "      <td>-0.275276</td>\n",
              "      <td>0.627907</td>\n",
              "      <td>-0.000000</td>\n",
              "      <td>-0.235321</td>\n",
              "      <td>-0.00000</td>\n",
              "      <td>-0.000000</td>\n",
              "      <td>-0.000000</td>\n",
              "      <td>0.087267</td>\n",
              "      <td>-0.0</td>\n",
              "      <td>-0.026329</td>\n",
              "      <td>0.242059</td>\n",
              "      <td>0.909004</td>\n",
              "      <td>-0.000000</td>\n",
              "      <td>0.204270</td>\n",
              "      <td>-0.797165</td>\n",
              "      <td>-0.000000</td>\n",
              "      <td>-0.124939</td>\n",
              "      <td>-0.297885</td>\n",
              "      <td>-0.843025</td>\n",
              "      <td>-1.122216</td>\n",
              "      <td>-0.000000</td>\n",
              "      <td>0.410835</td>\n",
              "      <td>-0.000000</td>\n",
              "      <td>-0.000000</td>\n",
              "      <td>0.036402</td>\n",
              "      <td>0.056663</td>\n",
              "      <td>-0.378063</td>\n",
              "      <td>0.970397</td>\n",
              "      <td>-0.455239</td>\n",
              "      <td>0.943963</td>\n",
              "      <td>...</td>\n",
              "      <td>-0.035684</td>\n",
              "      <td>-0.035976</td>\n",
              "      <td>-0.036098</td>\n",
              "      <td>-0.039482</td>\n",
              "      <td>-0.038737</td>\n",
              "      <td>-0.036809</td>\n",
              "      <td>-0.039064</td>\n",
              "      <td>-0.036607</td>\n",
              "      <td>-0.036565</td>\n",
              "      <td>-0.037023</td>\n",
              "      <td>-0.038640</td>\n",
              "      <td>-0.040766</td>\n",
              "      <td>-0.037649</td>\n",
              "      <td>-0.041084</td>\n",
              "      <td>-0.039750</td>\n",
              "      <td>-0.034009</td>\n",
              "      <td>-0.037304</td>\n",
              "      <td>-0.036015</td>\n",
              "      <td>-0.039145</td>\n",
              "      <td>-0.038882</td>\n",
              "      <td>-0.037131</td>\n",
              "      <td>-0.039078</td>\n",
              "      <td>-0.040325</td>\n",
              "      <td>-0.035622</td>\n",
              "      <td>-0.037185</td>\n",
              "      <td>-0.035733</td>\n",
              "      <td>-0.036353</td>\n",
              "      <td>-0.036616</td>\n",
              "      <td>-0.040423</td>\n",
              "      <td>-0.037648</td>\n",
              "      <td>-0.037725</td>\n",
              "      <td>-0.037534</td>\n",
              "      <td>-0.036560</td>\n",
              "      <td>-0.036152</td>\n",
              "      <td>-0.036554</td>\n",
              "      <td>-0.036875</td>\n",
              "      <td>-0.037351</td>\n",
              "      <td>-0.036746</td>\n",
              "      <td>-0.038686</td>\n",
              "      <td>-0.036903</td>\n",
              "    </tr>\n",
              "    <tr>\n",
              "      <th>3</th>\n",
              "      <td>2018-10-25 10:32:05.046000</td>\n",
              "      <td>1540456325046</td>\n",
              "      <td>-0.049682</td>\n",
              "      <td>-0.049682</td>\n",
              "      <td>-0.049682</td>\n",
              "      <td>0.519086</td>\n",
              "      <td>-0.681150</td>\n",
              "      <td>-0.000000</td>\n",
              "      <td>-0.417230</td>\n",
              "      <td>-0.000000</td>\n",
              "      <td>-0.140451</td>\n",
              "      <td>-0.000000</td>\n",
              "      <td>0.943584</td>\n",
              "      <td>-0.058364</td>\n",
              "      <td>-0.00000</td>\n",
              "      <td>-0.000000</td>\n",
              "      <td>-0.000000</td>\n",
              "      <td>-0.000000</td>\n",
              "      <td>-0.0</td>\n",
              "      <td>-0.000000</td>\n",
              "      <td>0.310275</td>\n",
              "      <td>-0.038019</td>\n",
              "      <td>0.574786</td>\n",
              "      <td>-0.000000</td>\n",
              "      <td>-0.909576</td>\n",
              "      <td>-0.000000</td>\n",
              "      <td>-0.555913</td>\n",
              "      <td>-0.104543</td>\n",
              "      <td>-0.000000</td>\n",
              "      <td>-0.000000</td>\n",
              "      <td>0.606357</td>\n",
              "      <td>0.060972</td>\n",
              "      <td>-0.000000</td>\n",
              "      <td>-0.000000</td>\n",
              "      <td>-0.000000</td>\n",
              "      <td>-0.022696</td>\n",
              "      <td>-0.635722</td>\n",
              "      <td>0.511613</td>\n",
              "      <td>-0.299296</td>\n",
              "      <td>-0.000000</td>\n",
              "      <td>...</td>\n",
              "      <td>-0.034932</td>\n",
              "      <td>-0.036576</td>\n",
              "      <td>-0.035704</td>\n",
              "      <td>-0.039335</td>\n",
              "      <td>-0.040506</td>\n",
              "      <td>-0.038523</td>\n",
              "      <td>-0.041140</td>\n",
              "      <td>-0.038054</td>\n",
              "      <td>-0.038861</td>\n",
              "      <td>-0.038303</td>\n",
              "      <td>-0.035774</td>\n",
              "      <td>-0.039214</td>\n",
              "      <td>-0.035770</td>\n",
              "      <td>-0.037952</td>\n",
              "      <td>-0.038415</td>\n",
              "      <td>-0.035703</td>\n",
              "      <td>-0.037034</td>\n",
              "      <td>-0.035988</td>\n",
              "      <td>-0.039093</td>\n",
              "      <td>-0.037155</td>\n",
              "      <td>-0.037300</td>\n",
              "      <td>-0.037496</td>\n",
              "      <td>-0.036852</td>\n",
              "      <td>-0.035685</td>\n",
              "      <td>-0.036023</td>\n",
              "      <td>-0.034089</td>\n",
              "      <td>-0.036316</td>\n",
              "      <td>-0.037612</td>\n",
              "      <td>-0.039887</td>\n",
              "      <td>-0.038884</td>\n",
              "      <td>-0.037613</td>\n",
              "      <td>-0.037168</td>\n",
              "      <td>-0.036369</td>\n",
              "      <td>-0.034549</td>\n",
              "      <td>-0.036252</td>\n",
              "      <td>-0.037948</td>\n",
              "      <td>-0.036713</td>\n",
              "      <td>-0.035706</td>\n",
              "      <td>-0.038203</td>\n",
              "      <td>-0.036822</td>\n",
              "    </tr>\n",
              "    <tr>\n",
              "      <th>4</th>\n",
              "      <td>2018-10-25 10:32:05.129000</td>\n",
              "      <td>1540456325129</td>\n",
              "      <td>0.335086</td>\n",
              "      <td>0.335086</td>\n",
              "      <td>0.335086</td>\n",
              "      <td>-0.041393</td>\n",
              "      <td>-0.000000</td>\n",
              "      <td>-1.802774</td>\n",
              "      <td>-0.510417</td>\n",
              "      <td>-0.000000</td>\n",
              "      <td>-0.000000</td>\n",
              "      <td>-0.000000</td>\n",
              "      <td>1.055558</td>\n",
              "      <td>-0.208559</td>\n",
              "      <td>-0.22812</td>\n",
              "      <td>-0.000000</td>\n",
              "      <td>-0.000000</td>\n",
              "      <td>-0.000000</td>\n",
              "      <td>-0.0</td>\n",
              "      <td>-0.279289</td>\n",
              "      <td>-0.138342</td>\n",
              "      <td>0.367747</td>\n",
              "      <td>-0.136349</td>\n",
              "      <td>-0.185214</td>\n",
              "      <td>-0.000000</td>\n",
              "      <td>-0.000000</td>\n",
              "      <td>0.412180</td>\n",
              "      <td>0.181951</td>\n",
              "      <td>-1.092253</td>\n",
              "      <td>-0.000000</td>\n",
              "      <td>0.152900</td>\n",
              "      <td>0.254004</td>\n",
              "      <td>-0.202826</td>\n",
              "      <td>-0.000000</td>\n",
              "      <td>-0.000000</td>\n",
              "      <td>-0.071186</td>\n",
              "      <td>-0.868923</td>\n",
              "      <td>0.700776</td>\n",
              "      <td>0.123212</td>\n",
              "      <td>0.599467</td>\n",
              "      <td>...</td>\n",
              "      <td>-0.035762</td>\n",
              "      <td>-0.035980</td>\n",
              "      <td>-0.037206</td>\n",
              "      <td>-0.038248</td>\n",
              "      <td>-0.039307</td>\n",
              "      <td>-0.037769</td>\n",
              "      <td>-0.041217</td>\n",
              "      <td>-0.037200</td>\n",
              "      <td>-0.038106</td>\n",
              "      <td>-0.036570</td>\n",
              "      <td>-0.037883</td>\n",
              "      <td>-0.041302</td>\n",
              "      <td>-0.036247</td>\n",
              "      <td>-0.040564</td>\n",
              "      <td>-0.036676</td>\n",
              "      <td>-0.036895</td>\n",
              "      <td>-0.038842</td>\n",
              "      <td>-0.037443</td>\n",
              "      <td>-0.038898</td>\n",
              "      <td>-0.036531</td>\n",
              "      <td>-0.038322</td>\n",
              "      <td>-0.040999</td>\n",
              "      <td>-0.039452</td>\n",
              "      <td>-0.036181</td>\n",
              "      <td>-0.036519</td>\n",
              "      <td>-0.035871</td>\n",
              "      <td>-0.034136</td>\n",
              "      <td>-0.035969</td>\n",
              "      <td>-0.039828</td>\n",
              "      <td>-0.039577</td>\n",
              "      <td>-0.040919</td>\n",
              "      <td>-0.038288</td>\n",
              "      <td>-0.035840</td>\n",
              "      <td>-0.035638</td>\n",
              "      <td>-0.039504</td>\n",
              "      <td>-0.040093</td>\n",
              "      <td>-0.039953</td>\n",
              "      <td>-0.037656</td>\n",
              "      <td>-0.038082</td>\n",
              "      <td>-0.035900</td>\n",
              "    </tr>\n",
              "  </tbody>\n",
              "</table>\n",
              "<p>5 rows × 3650 columns</p>\n",
              "</div>\n",
              "      <button class=\"colab-df-convert\" onclick=\"convertToInteractive('df-3ed95328-c7f2-466b-ae7a-8a6331a40519')\"\n",
              "              title=\"Convert this dataframe to an interactive table.\"\n",
              "              style=\"display:none;\">\n",
              "        \n",
              "  <svg xmlns=\"http://www.w3.org/2000/svg\" height=\"24px\"viewBox=\"0 0 24 24\"\n",
              "       width=\"24px\">\n",
              "    <path d=\"M0 0h24v24H0V0z\" fill=\"none\"/>\n",
              "    <path d=\"M18.56 5.44l.94 2.06.94-2.06 2.06-.94-2.06-.94-.94-2.06-.94 2.06-2.06.94zm-11 1L8.5 8.5l.94-2.06 2.06-.94-2.06-.94L8.5 2.5l-.94 2.06-2.06.94zm10 10l.94 2.06.94-2.06 2.06-.94-2.06-.94-.94-2.06-.94 2.06-2.06.94z\"/><path d=\"M17.41 7.96l-1.37-1.37c-.4-.4-.92-.59-1.43-.59-.52 0-1.04.2-1.43.59L10.3 9.45l-7.72 7.72c-.78.78-.78 2.05 0 2.83L4 21.41c.39.39.9.59 1.41.59.51 0 1.02-.2 1.41-.59l7.78-7.78 2.81-2.81c.8-.78.8-2.07 0-2.86zM5.41 20L4 18.59l7.72-7.72 1.47 1.35L5.41 20z\"/>\n",
              "  </svg>\n",
              "      </button>\n",
              "      \n",
              "  <style>\n",
              "    .colab-df-container {\n",
              "      display:flex;\n",
              "      flex-wrap:wrap;\n",
              "      gap: 12px;\n",
              "    }\n",
              "\n",
              "    .colab-df-convert {\n",
              "      background-color: #E8F0FE;\n",
              "      border: none;\n",
              "      border-radius: 50%;\n",
              "      cursor: pointer;\n",
              "      display: none;\n",
              "      fill: #1967D2;\n",
              "      height: 32px;\n",
              "      padding: 0 0 0 0;\n",
              "      width: 32px;\n",
              "    }\n",
              "\n",
              "    .colab-df-convert:hover {\n",
              "      background-color: #E2EBFA;\n",
              "      box-shadow: 0px 1px 2px rgba(60, 64, 67, 0.3), 0px 1px 3px 1px rgba(60, 64, 67, 0.15);\n",
              "      fill: #174EA6;\n",
              "    }\n",
              "\n",
              "    [theme=dark] .colab-df-convert {\n",
              "      background-color: #3B4455;\n",
              "      fill: #D2E3FC;\n",
              "    }\n",
              "\n",
              "    [theme=dark] .colab-df-convert:hover {\n",
              "      background-color: #434B5C;\n",
              "      box-shadow: 0px 1px 3px 1px rgba(0, 0, 0, 0.15);\n",
              "      filter: drop-shadow(0px 1px 2px rgba(0, 0, 0, 0.3));\n",
              "      fill: #FFFFFF;\n",
              "    }\n",
              "  </style>\n",
              "\n",
              "      <script>\n",
              "        const buttonEl =\n",
              "          document.querySelector('#df-3ed95328-c7f2-466b-ae7a-8a6331a40519 button.colab-df-convert');\n",
              "        buttonEl.style.display =\n",
              "          google.colab.kernel.accessAllowed ? 'block' : 'none';\n",
              "\n",
              "        async function convertToInteractive(key) {\n",
              "          const element = document.querySelector('#df-3ed95328-c7f2-466b-ae7a-8a6331a40519');\n",
              "          const dataTable =\n",
              "            await google.colab.kernel.invokeFunction('convertToInteractive',\n",
              "                                                     [key], {});\n",
              "          if (!dataTable) return;\n",
              "\n",
              "          const docLinkHtml = 'Like what you see? Visit the ' +\n",
              "            '<a target=\"_blank\" href=https://colab.research.google.com/notebooks/data_table.ipynb>data table notebook</a>'\n",
              "            + ' to learn more about interactive tables.';\n",
              "          element.innerHTML = '';\n",
              "          dataTable['output_type'] = 'display_data';\n",
              "          await google.colab.output.renderOutput(dataTable, element);\n",
              "          const docLink = document.createElement('div');\n",
              "          docLink.innerHTML = docLinkHtml;\n",
              "          element.appendChild(docLink);\n",
              "        }\n",
              "      </script>\n",
              "    </div>\n",
              "  </div>\n",
              "  "
            ],
            "text/plain": [
              "                   Unnamed: 0     Unnamed: 1  ...  779.9194  780.0381\n",
              "0  2018-10-25 10:32:04.789000  1540456324789  ... -0.039100 -0.035545\n",
              "1  2018-10-25 10:32:04.878000  1540456324878  ... -0.040210 -0.038165\n",
              "2  2018-10-25 10:32:04.962000  1540456324962  ... -0.038686 -0.036903\n",
              "3  2018-10-25 10:32:05.046000  1540456325046  ... -0.038203 -0.036822\n",
              "4  2018-10-25 10:32:05.129000  1540456325129  ... -0.038082 -0.035900\n",
              "\n",
              "[5 rows x 3650 columns]"
            ]
          },
          "metadata": {},
          "execution_count": 21
        }
      ]
    },
    {
      "cell_type": "code",
      "source": [
        ""
      ],
      "metadata": {
        "id": "P0Dw8PC2BIjm"
      },
      "execution_count": null,
      "outputs": []
    },
    {
      "cell_type": "code",
      "source": [
        ""
      ],
      "metadata": {
        "id": "JflZErgxLI8K"
      },
      "execution_count": null,
      "outputs": []
    },
    {
      "cell_type": "markdown",
      "source": [
        "How big is the dataset? How many rows, how many columns, how space in the memory? The data are spectral lines from some chemistry experiment with some other information in the first four columns. We will come back to this dataset later.  "
      ],
      "metadata": {
        "id": "CL96e1h-SXh6"
      }
    },
    {
      "cell_type": "markdown",
      "source": [
        "5. Plot some columns."
      ],
      "metadata": {
        "id": "1HjPQjXGS74M"
      }
    },
    {
      "cell_type": "code",
      "source": [
        "#df[5].hist()"
      ],
      "metadata": {
        "id": "Bo0523KXPuUO"
      },
      "execution_count": null,
      "outputs": []
    },
    {
      "cell_type": "code",
      "source": [
        ""
      ],
      "metadata": {
        "id": "b4C_XMGmQYRI"
      },
      "execution_count": null,
      "outputs": []
    },
    {
      "cell_type": "markdown",
      "source": [
        "6. Check out other pandas read methods here: https://pandas.pydata.org/docs/reference/io.html"
      ],
      "metadata": {
        "id": "Dh4ypNVEYsqq"
      }
    },
    {
      "cell_type": "code",
      "source": [
        ""
      ],
      "metadata": {
        "id": "sfrQGNjc20L0"
      },
      "execution_count": null,
      "outputs": []
    }
  ]
}