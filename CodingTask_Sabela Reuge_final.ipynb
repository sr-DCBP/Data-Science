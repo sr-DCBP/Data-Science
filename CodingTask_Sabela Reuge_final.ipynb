{
  "nbformat": 4,
  "nbformat_minor": 0,
  "metadata": {
    "colab": {
      "name": "CodingTask1.ipynb",
      "provenance": [],
      "include_colab_link": true
    },
    "kernelspec": {
      "name": "python3",
      "display_name": "Python 3"
    },
    "language_info": {
      "name": "python"
    }
  },
  "cells": [
    {
      "cell_type": "markdown",
      "metadata": {
        "id": "view-in-github",
        "colab_type": "text"
      },
      "source": [
        "<a href=\"https://colab.research.google.com/github/sr-DCBP/Data-Science/blob/main/CodingTask_Sabela%20Reuge_final.ipynb\" target=\"_parent\"><img src=\"https://colab.research.google.com/assets/colab-badge.svg\" alt=\"Open In Colab\"/></a>"
      ]
    },
    {
      "cell_type": "markdown",
      "source": [
        "Data Science Fundamentals for DCBP, S. Haug, University of Bern "
      ],
      "metadata": {
        "id": "_-1mhuoK6uqC"
      }
    },
    {
      "cell_type": "markdown",
      "source": [
        "# Coding Task 1\n",
        "\n",
        "- Deadline (upload to Ilias): 2022-03-20 24:00\n",
        "- Estimated effort: 2-5 hours\n",
        "- Data on Ilias (4ms_...) with metadata file CCD-Metadata\n"
      ],
      "metadata": {
        "id": "gn4RkUC66-ou"
      }
    },
    {
      "cell_type": "markdown",
      "source": [
        "## Tasks (maximum 12.5 points)"
      ],
      "metadata": {
        "id": "KYKF2iS56v1z"
      }
    },
    {
      "cell_type": "markdown",
      "source": [
        "- Write a method (function) which removes the header information in the datafile and saves that information into a separate textfile. [0.5 points] \n",
        "- Write a function which reduces the data resolution by averaging over 1, 2, 3 and 4 nm wavelengths. Save these 4 new reduced datasets in new files. Do this (1) by writing an explicit loop and (2) by using pandas methods. Measure the running times of the two approaches. [6 points]\n",
        "- Write a function which takes two wavelengths as input and plots the difference of the data at these lengths over time. [2 points] \n",
        "- Let the x-axis be in seconds, label the axes with names and units, label the plot with color and legend, make a title for the plot. Save the plot to a file. [2 points]\n",
        "- Plot the full and the reduced datasets in the same figure. Is there any visual difference? [2 points]"
      ],
      "metadata": {
        "id": "rXqhhPMu9aPx"
      }
    },
    {
      "cell_type": "code",
      "source": [
        "#Sabela Reuge\n",
        "from google.colab import drive\n",
        "drive.mount('/content/drive')\n",
        "path = '/content/drive/MyDrive/Data science/Absorbance.txt' \n"
      ],
      "metadata": {
        "id": "OfvMackX-SFc",
        "colab": {
          "base_uri": "https://localhost:8080/"
        },
        "outputId": "4c626294-b369-401e-aa43-37bf8c989193"
      },
      "execution_count": null,
      "outputs": [
        {
          "output_type": "stream",
          "name": "stdout",
          "text": [
            "Drive already mounted at /content/drive; to attempt to forcibly remount, call drive.mount(\"/content/drive\", force_remount=True).\n"
          ]
        }
      ]
    },
    {
      "cell_type": "code",
      "source": [
        "import pandas as pd\n",
        "df = pd.read_csv(path, delimiter='\\t', header=13) # skip the metadata to get to the data (values)\n",
        "df.to_csv('data-without-header')\n",
        "df.head()\n",
        "\n"
      ],
      "metadata": {
        "colab": {
          "base_uri": "https://localhost:8080/",
          "height": 386
        },
        "id": "UKYvcLoB2MUf",
        "outputId": "314e5f33-bfb4-45dd-e697-62586f4d5784"
      },
      "execution_count": null,
      "outputs": [
        {
          "output_type": "execute_result",
          "data": {
            "text/plain": [
              "                   Unnamed: 0     Unnamed: 1  316.6137  316.7492  316.8847  \\\n",
              "0  2018-10-25 10:32:04.789000  1540456324789  0.329672  0.329672  0.329672   \n",
              "1  2018-10-25 10:32:04.878000  1540456324878 -0.044412 -0.044412 -0.044412   \n",
              "2  2018-10-25 10:32:04.962000  1540456324962  0.338219  0.338219  0.338219   \n",
              "3  2018-10-25 10:32:05.046000  1540456325046 -0.049682 -0.049682 -0.049682   \n",
              "4  2018-10-25 10:32:05.129000  1540456325129  0.335086  0.335086  0.335086   \n",
              "\n",
              "   317.0203  317.1558  317.2913  317.4268  317.5623  ...  778.9703   779.089  \\\n",
              "0  0.090294 -0.716926 -1.829304 -0.686330 -0.428776  ... -0.038483 -0.039623   \n",
              "1  0.157632 -0.672423 -2.183981 -0.492421 -0.000000  ... -0.039428 -0.038486   \n",
              "2  0.330993 -0.879836 -0.000000 -0.559845 -0.000000  ... -0.037725 -0.037534   \n",
              "3  0.519086 -0.681150 -0.000000 -0.417230 -0.000000  ... -0.037613 -0.037168   \n",
              "4 -0.041393 -0.000000 -1.802774 -0.510417 -0.000000  ... -0.040919 -0.038288   \n",
              "\n",
              "   779.2076  779.3263  779.4449  779.5636  779.6822  779.8008  779.9194  \\\n",
              "0 -0.036920 -0.037309 -0.037299 -0.037476 -0.036856 -0.036853 -0.039100   \n",
              "1 -0.037309 -0.036357 -0.037289 -0.038728 -0.037214 -0.036902 -0.040210   \n",
              "2 -0.036560 -0.036152 -0.036554 -0.036875 -0.037351 -0.036746 -0.038686   \n",
              "3 -0.036369 -0.034549 -0.036252 -0.037948 -0.036713 -0.035706 -0.038203   \n",
              "4 -0.035840 -0.035638 -0.039504 -0.040093 -0.039953 -0.037656 -0.038082   \n",
              "\n",
              "   780.0381  \n",
              "0 -0.035545  \n",
              "1 -0.038165  \n",
              "2 -0.036903  \n",
              "3 -0.036822  \n",
              "4 -0.035900  \n",
              "\n",
              "[5 rows x 3650 columns]"
            ],
            "text/html": [
              "\n",
              "  <div id=\"df-41dbe456-bac6-427b-8ec5-85d1f5c094f5\">\n",
              "    <div class=\"colab-df-container\">\n",
              "      <div>\n",
              "<style scoped>\n",
              "    .dataframe tbody tr th:only-of-type {\n",
              "        vertical-align: middle;\n",
              "    }\n",
              "\n",
              "    .dataframe tbody tr th {\n",
              "        vertical-align: top;\n",
              "    }\n",
              "\n",
              "    .dataframe thead th {\n",
              "        text-align: right;\n",
              "    }\n",
              "</style>\n",
              "<table border=\"1\" class=\"dataframe\">\n",
              "  <thead>\n",
              "    <tr style=\"text-align: right;\">\n",
              "      <th></th>\n",
              "      <th>Unnamed: 0</th>\n",
              "      <th>Unnamed: 1</th>\n",
              "      <th>316.6137</th>\n",
              "      <th>316.7492</th>\n",
              "      <th>316.8847</th>\n",
              "      <th>317.0203</th>\n",
              "      <th>317.1558</th>\n",
              "      <th>317.2913</th>\n",
              "      <th>317.4268</th>\n",
              "      <th>317.5623</th>\n",
              "      <th>...</th>\n",
              "      <th>778.9703</th>\n",
              "      <th>779.089</th>\n",
              "      <th>779.2076</th>\n",
              "      <th>779.3263</th>\n",
              "      <th>779.4449</th>\n",
              "      <th>779.5636</th>\n",
              "      <th>779.6822</th>\n",
              "      <th>779.8008</th>\n",
              "      <th>779.9194</th>\n",
              "      <th>780.0381</th>\n",
              "    </tr>\n",
              "  </thead>\n",
              "  <tbody>\n",
              "    <tr>\n",
              "      <th>0</th>\n",
              "      <td>2018-10-25 10:32:04.789000</td>\n",
              "      <td>1540456324789</td>\n",
              "      <td>0.329672</td>\n",
              "      <td>0.329672</td>\n",
              "      <td>0.329672</td>\n",
              "      <td>0.090294</td>\n",
              "      <td>-0.716926</td>\n",
              "      <td>-1.829304</td>\n",
              "      <td>-0.686330</td>\n",
              "      <td>-0.428776</td>\n",
              "      <td>...</td>\n",
              "      <td>-0.038483</td>\n",
              "      <td>-0.039623</td>\n",
              "      <td>-0.036920</td>\n",
              "      <td>-0.037309</td>\n",
              "      <td>-0.037299</td>\n",
              "      <td>-0.037476</td>\n",
              "      <td>-0.036856</td>\n",
              "      <td>-0.036853</td>\n",
              "      <td>-0.039100</td>\n",
              "      <td>-0.035545</td>\n",
              "    </tr>\n",
              "    <tr>\n",
              "      <th>1</th>\n",
              "      <td>2018-10-25 10:32:04.878000</td>\n",
              "      <td>1540456324878</td>\n",
              "      <td>-0.044412</td>\n",
              "      <td>-0.044412</td>\n",
              "      <td>-0.044412</td>\n",
              "      <td>0.157632</td>\n",
              "      <td>-0.672423</td>\n",
              "      <td>-2.183981</td>\n",
              "      <td>-0.492421</td>\n",
              "      <td>-0.000000</td>\n",
              "      <td>...</td>\n",
              "      <td>-0.039428</td>\n",
              "      <td>-0.038486</td>\n",
              "      <td>-0.037309</td>\n",
              "      <td>-0.036357</td>\n",
              "      <td>-0.037289</td>\n",
              "      <td>-0.038728</td>\n",
              "      <td>-0.037214</td>\n",
              "      <td>-0.036902</td>\n",
              "      <td>-0.040210</td>\n",
              "      <td>-0.038165</td>\n",
              "    </tr>\n",
              "    <tr>\n",
              "      <th>2</th>\n",
              "      <td>2018-10-25 10:32:04.962000</td>\n",
              "      <td>1540456324962</td>\n",
              "      <td>0.338219</td>\n",
              "      <td>0.338219</td>\n",
              "      <td>0.338219</td>\n",
              "      <td>0.330993</td>\n",
              "      <td>-0.879836</td>\n",
              "      <td>-0.000000</td>\n",
              "      <td>-0.559845</td>\n",
              "      <td>-0.000000</td>\n",
              "      <td>...</td>\n",
              "      <td>-0.037725</td>\n",
              "      <td>-0.037534</td>\n",
              "      <td>-0.036560</td>\n",
              "      <td>-0.036152</td>\n",
              "      <td>-0.036554</td>\n",
              "      <td>-0.036875</td>\n",
              "      <td>-0.037351</td>\n",
              "      <td>-0.036746</td>\n",
              "      <td>-0.038686</td>\n",
              "      <td>-0.036903</td>\n",
              "    </tr>\n",
              "    <tr>\n",
              "      <th>3</th>\n",
              "      <td>2018-10-25 10:32:05.046000</td>\n",
              "      <td>1540456325046</td>\n",
              "      <td>-0.049682</td>\n",
              "      <td>-0.049682</td>\n",
              "      <td>-0.049682</td>\n",
              "      <td>0.519086</td>\n",
              "      <td>-0.681150</td>\n",
              "      <td>-0.000000</td>\n",
              "      <td>-0.417230</td>\n",
              "      <td>-0.000000</td>\n",
              "      <td>...</td>\n",
              "      <td>-0.037613</td>\n",
              "      <td>-0.037168</td>\n",
              "      <td>-0.036369</td>\n",
              "      <td>-0.034549</td>\n",
              "      <td>-0.036252</td>\n",
              "      <td>-0.037948</td>\n",
              "      <td>-0.036713</td>\n",
              "      <td>-0.035706</td>\n",
              "      <td>-0.038203</td>\n",
              "      <td>-0.036822</td>\n",
              "    </tr>\n",
              "    <tr>\n",
              "      <th>4</th>\n",
              "      <td>2018-10-25 10:32:05.129000</td>\n",
              "      <td>1540456325129</td>\n",
              "      <td>0.335086</td>\n",
              "      <td>0.335086</td>\n",
              "      <td>0.335086</td>\n",
              "      <td>-0.041393</td>\n",
              "      <td>-0.000000</td>\n",
              "      <td>-1.802774</td>\n",
              "      <td>-0.510417</td>\n",
              "      <td>-0.000000</td>\n",
              "      <td>...</td>\n",
              "      <td>-0.040919</td>\n",
              "      <td>-0.038288</td>\n",
              "      <td>-0.035840</td>\n",
              "      <td>-0.035638</td>\n",
              "      <td>-0.039504</td>\n",
              "      <td>-0.040093</td>\n",
              "      <td>-0.039953</td>\n",
              "      <td>-0.037656</td>\n",
              "      <td>-0.038082</td>\n",
              "      <td>-0.035900</td>\n",
              "    </tr>\n",
              "  </tbody>\n",
              "</table>\n",
              "<p>5 rows × 3650 columns</p>\n",
              "</div>\n",
              "      <button class=\"colab-df-convert\" onclick=\"convertToInteractive('df-41dbe456-bac6-427b-8ec5-85d1f5c094f5')\"\n",
              "              title=\"Convert this dataframe to an interactive table.\"\n",
              "              style=\"display:none;\">\n",
              "        \n",
              "  <svg xmlns=\"http://www.w3.org/2000/svg\" height=\"24px\"viewBox=\"0 0 24 24\"\n",
              "       width=\"24px\">\n",
              "    <path d=\"M0 0h24v24H0V0z\" fill=\"none\"/>\n",
              "    <path d=\"M18.56 5.44l.94 2.06.94-2.06 2.06-.94-2.06-.94-.94-2.06-.94 2.06-2.06.94zm-11 1L8.5 8.5l.94-2.06 2.06-.94-2.06-.94L8.5 2.5l-.94 2.06-2.06.94zm10 10l.94 2.06.94-2.06 2.06-.94-2.06-.94-.94-2.06-.94 2.06-2.06.94z\"/><path d=\"M17.41 7.96l-1.37-1.37c-.4-.4-.92-.59-1.43-.59-.52 0-1.04.2-1.43.59L10.3 9.45l-7.72 7.72c-.78.78-.78 2.05 0 2.83L4 21.41c.39.39.9.59 1.41.59.51 0 1.02-.2 1.41-.59l7.78-7.78 2.81-2.81c.8-.78.8-2.07 0-2.86zM5.41 20L4 18.59l7.72-7.72 1.47 1.35L5.41 20z\"/>\n",
              "  </svg>\n",
              "      </button>\n",
              "      \n",
              "  <style>\n",
              "    .colab-df-container {\n",
              "      display:flex;\n",
              "      flex-wrap:wrap;\n",
              "      gap: 12px;\n",
              "    }\n",
              "\n",
              "    .colab-df-convert {\n",
              "      background-color: #E8F0FE;\n",
              "      border: none;\n",
              "      border-radius: 50%;\n",
              "      cursor: pointer;\n",
              "      display: none;\n",
              "      fill: #1967D2;\n",
              "      height: 32px;\n",
              "      padding: 0 0 0 0;\n",
              "      width: 32px;\n",
              "    }\n",
              "\n",
              "    .colab-df-convert:hover {\n",
              "      background-color: #E2EBFA;\n",
              "      box-shadow: 0px 1px 2px rgba(60, 64, 67, 0.3), 0px 1px 3px 1px rgba(60, 64, 67, 0.15);\n",
              "      fill: #174EA6;\n",
              "    }\n",
              "\n",
              "    [theme=dark] .colab-df-convert {\n",
              "      background-color: #3B4455;\n",
              "      fill: #D2E3FC;\n",
              "    }\n",
              "\n",
              "    [theme=dark] .colab-df-convert:hover {\n",
              "      background-color: #434B5C;\n",
              "      box-shadow: 0px 1px 3px 1px rgba(0, 0, 0, 0.15);\n",
              "      filter: drop-shadow(0px 1px 2px rgba(0, 0, 0, 0.3));\n",
              "      fill: #FFFFFF;\n",
              "    }\n",
              "  </style>\n",
              "\n",
              "      <script>\n",
              "        const buttonEl =\n",
              "          document.querySelector('#df-41dbe456-bac6-427b-8ec5-85d1f5c094f5 button.colab-df-convert');\n",
              "        buttonEl.style.display =\n",
              "          google.colab.kernel.accessAllowed ? 'block' : 'none';\n",
              "\n",
              "        async function convertToInteractive(key) {\n",
              "          const element = document.querySelector('#df-41dbe456-bac6-427b-8ec5-85d1f5c094f5');\n",
              "          const dataTable =\n",
              "            await google.colab.kernel.invokeFunction('convertToInteractive',\n",
              "                                                     [key], {});\n",
              "          if (!dataTable) return;\n",
              "\n",
              "          const docLinkHtml = 'Like what you see? Visit the ' +\n",
              "            '<a target=\"_blank\" href=https://colab.research.google.com/notebooks/data_table.ipynb>data table notebook</a>'\n",
              "            + ' to learn more about interactive tables.';\n",
              "          element.innerHTML = '';\n",
              "          dataTable['output_type'] = 'display_data';\n",
              "          await google.colab.output.renderOutput(dataTable, element);\n",
              "          const docLink = document.createElement('div');\n",
              "          docLink.innerHTML = docLinkHtml;\n",
              "          element.appendChild(docLink);\n",
              "        }\n",
              "      </script>\n",
              "    </div>\n",
              "  </div>\n",
              "  "
            ]
          },
          "metadata": {},
          "execution_count": 29
        }
      ]
    },
    {
      "cell_type": "code",
      "source": [
        ""
      ],
      "metadata": {
        "id": "wvP3lY5O3Fet"
      },
      "execution_count": null,
      "outputs": []
    },
    {
      "cell_type": "code",
      "source": [
        "#Task 2 with pandas, reduce to 1 nm\n",
        "#wavelength of all the measurements and their absorption\n",
        "import numpy as np\n",
        "import pandas as pd\n",
        "def reduce_data_1nm():\n",
        "  set1 = df.iloc[:,2:]\n",
        "  print(set1)\n",
        "  #average over 1 nm of all measurements, which is roughly 6 values\n",
        "  m = 6\n",
        "  a = np.array(set1)\n",
        "  red_to_1nm = a.reshape(-1, m).mean(axis=1)\n",
        "  print(red_to_1nm)\n",
        "  #save data set in textfile\n",
        "  np.savetxt('Reduced over 1nm.txt', red_to_1nm, delimiter = '\\tab')\n",
        "  content = np.loadtxt('Reduced over 1nm.txt')\n",
        "  print(content)\n",
        "\n",
        "reduce_data_1nm()"
      ],
      "metadata": {
        "id": "4CfEVbwcUpUf",
        "outputId": "55b4f1ae-c983-4131-9ca8-defcd9d486c4",
        "colab": {
          "base_uri": "https://localhost:8080/"
        }
      },
      "execution_count": null,
      "outputs": [
        {
          "output_type": "stream",
          "name": "stdout",
          "text": [
            "     316.6137  316.7492  316.8847  317.0203  317.1558  317.2913  317.4268  \\\n",
            "0    0.329672  0.329672  0.329672  0.090294 -0.716926 -1.829304 -0.686330   \n",
            "1   -0.044412 -0.044412 -0.044412  0.157632 -0.672423 -2.183981 -0.492421   \n",
            "2    0.338219  0.338219  0.338219  0.330993 -0.879836 -0.000000 -0.559845   \n",
            "3   -0.049682 -0.049682 -0.049682  0.519086 -0.681150 -0.000000 -0.417230   \n",
            "4    0.335086  0.335086  0.335086 -0.041393 -0.000000 -1.802774 -0.510417   \n",
            "..        ...       ...       ...       ...       ...       ...       ...   \n",
            "350 -0.048929 -0.048929 -0.048929 -0.052674 -0.739370 -2.155336 -0.520450   \n",
            "351  0.851907  0.851907  0.851907 -0.111298 -0.639166 -2.039414 -0.531784   \n",
            "352  0.329255  0.329255  0.329255  0.064351  0.316582 -2.107210 -0.298427   \n",
            "353  0.330061  0.330061  0.330061  0.081473 -0.525273 -1.750123 -0.134352   \n",
            "354  0.101879  0.101879  0.101879  0.177809 -0.456259 -0.000000 -0.157833   \n",
            "\n",
            "     317.5623  317.6977  317.8332  ...  778.9703   779.089  779.2076  \\\n",
            "0   -0.428776  1.740363 -0.000000  ... -0.038483 -0.039623 -0.036920   \n",
            "1   -0.000000 -0.695800 -0.000000  ... -0.039428 -0.038486 -0.037309   \n",
            "2   -0.000000 -0.275276  0.627907  ... -0.037725 -0.037534 -0.036560   \n",
            "3   -0.000000 -0.140451 -0.000000  ... -0.037613 -0.037168 -0.036369   \n",
            "4   -0.000000 -0.000000 -0.000000  ... -0.040919 -0.038288 -0.035840   \n",
            "..        ...       ...       ...  ...       ...       ...       ...   \n",
            "350 -0.000000 -0.042587 -0.000000  ... -0.038112 -0.036615 -0.035938   \n",
            "351 -0.000000 -0.244914 -0.000000  ... -0.036887 -0.036921 -0.035249   \n",
            "352  0.570461 -0.000000 -0.000000  ... -0.037311 -0.036231 -0.037977   \n",
            "353  0.243550 -0.000000 -0.000000  ... -0.036267 -0.036341 -0.037307   \n",
            "354 -0.376095 -0.000000 -0.000000  ... -0.037316 -0.035830 -0.036852   \n",
            "\n",
            "     779.3263  779.4449  779.5636  779.6822  779.8008  779.9194  780.0381  \n",
            "0   -0.037309 -0.037299 -0.037476 -0.036856 -0.036853 -0.039100 -0.035545  \n",
            "1   -0.036357 -0.037289 -0.038728 -0.037214 -0.036902 -0.040210 -0.038165  \n",
            "2   -0.036152 -0.036554 -0.036875 -0.037351 -0.036746 -0.038686 -0.036903  \n",
            "3   -0.034549 -0.036252 -0.037948 -0.036713 -0.035706 -0.038203 -0.036822  \n",
            "4   -0.035638 -0.039504 -0.040093 -0.039953 -0.037656 -0.038082 -0.035900  \n",
            "..        ...       ...       ...       ...       ...       ...       ...  \n",
            "350 -0.034245 -0.035340 -0.037055 -0.035771 -0.036557 -0.037451 -0.033582  \n",
            "351 -0.033394 -0.035231 -0.035815 -0.037457 -0.035020 -0.038338 -0.035408  \n",
            "352 -0.033525 -0.035225 -0.036255 -0.036670 -0.036079 -0.038006 -0.035039  \n",
            "353 -0.035010 -0.036073 -0.036282 -0.036911 -0.036554 -0.037560 -0.034496  \n",
            "354 -0.034170 -0.034227 -0.035085 -0.035308 -0.034768 -0.036334 -0.034725  \n",
            "\n",
            "[355 rows x 3648 columns]\n",
            "[-0.24448667  0.17756567 -0.06638983 ... -0.03483117 -0.03635233\n",
            " -0.0350745 ]\n",
            "[-0.24448667  0.17756567 -0.06638983 ... -0.03483117 -0.03635233\n",
            " -0.0350745 ]\n"
          ]
        }
      ]
    },
    {
      "cell_type": "code",
      "source": [
        "#Task 2, reduce to 2 nm\n",
        "#wavelength of all the measurements and their absorption\n",
        "set1 = df.iloc[:,2:]\n",
        "#print(set1)\n",
        "\n",
        "#average over 2 nm of all measurements, which is roughly 12 values\n",
        "m = 12\n",
        "a = np.array(set1)\n",
        "red_to_2nm = a.reshape(-1, m).mean(axis=1)\n",
        "#print(red_to_1nm)\n",
        "\n",
        "#save data set in textfile\n",
        "np.savetxt('Reduced over 2nm.txt', red_to_2nm, delimiter = '\\tab')\n",
        "content = np.loadtxt('Reduced over 2nm.txt')\n",
        "print(content)"
      ],
      "metadata": {
        "colab": {
          "base_uri": "https://localhost:8080/"
        },
        "id": "07j54LIYIM46",
        "outputId": "d449ede9-4c7b-4426-f5aa-2577bbd8b541"
      },
      "execution_count": null,
      "outputs": [
        {
          "output_type": "stream",
          "name": "stdout",
          "text": [
            "[-0.0334605   0.044464    0.071475   ... -0.0368525  -0.03533767\n",
            " -0.03571342]\n"
          ]
        }
      ]
    },
    {
      "cell_type": "code",
      "source": [
        "#Task 2, reduce to 3 nm\n",
        "#wavelength of all the measurements and their absorption\n",
        "set1 = df.iloc[:,2:]\n",
        "#print(set1)\n",
        "\n",
        "#average over 3 nm of all measurements, which is roughly 16 values\n",
        "m = 16\n",
        "a = np.array(set1)\n",
        "red_to_3nm = a.reshape(-1, m).mean(axis=1)\n",
        "#print(red_to_1nm)\n",
        "\n",
        "#save data set in textfile\n",
        "np.savetxt('Reduced over 3nm.txt', red_to_3nm, delimiter = '\\tab')\n",
        "content = np.loadtxt('Reduced over 3nm.txt')\n",
        "print(content)"
      ],
      "metadata": {
        "colab": {
          "base_uri": "https://localhost:8080/"
        },
        "id": "iiaISilwMdrP",
        "outputId": "9405ce81-606c-43c0-fc72-079d4d567e90"
      },
      "execution_count": null,
      "outputs": [
        {
          "output_type": "stream",
          "name": "stdout",
          "text": [
            "[-0.06078606  0.13089131  0.02636288 ... -0.03593125 -0.03648325\n",
            " -0.03543975]\n"
          ]
        }
      ]
    },
    {
      "cell_type": "code",
      "source": [
        "#Task 2, reduce to 4 nm\n",
        "#wavelength of all the measurements and their absorption\n",
        "set1 = df.iloc[:,2:]\n",
        "#print(set1)\n",
        "\n",
        "#average over 4 nm of all measurements, which is roughly 24 values\n",
        "m = 24\n",
        "a = np.array(set1)\n",
        "red_to_4nm = a.reshape(-1, m).mean(axis=1)\n",
        "#print(red_to_1nm)\n",
        "\n",
        "#save data set in textfile\n",
        "np.savetxt('Reduced over 4nm.txt', red_to_4nm, delimiter = '\\tab')\n",
        "content = np.loadtxt('Reduced over 4nm.txt')\n",
        "print(content)"
      ],
      "metadata": {
        "colab": {
          "base_uri": "https://localhost:8080/"
        },
        "id": "Ug8LwywuMpCq",
        "outputId": "600d4d5e-0871-4bc9-b2d1-b1e19f39d1f1"
      },
      "execution_count": null,
      "outputs": [
        {
          "output_type": "stream",
          "name": "stdout",
          "text": [
            "[ 0.00550175  0.05881033 -0.11100413 ... -0.03696962 -0.03637729\n",
            " -0.03552554]\n"
          ]
        }
      ]
    },
    {
      "cell_type": "code",
      "source": [
        "#Measure running time of pandas\n",
        "%%timeit -n 10000 -r 5 \n",
        "def reduce_data_1nm():\n",
        "  set1 = df.iloc[:,2:]\n",
        "  print(set1)\n",
        "  #average over 1 nm of all measurements, which is roughly 6 values\n",
        "  m = 6\n",
        "  a = np.array(set1)\n",
        "  red_to_1nm = a.reshape(-1, m).mean(axis=1)\n",
        "  print(red_to_1nm)\n",
        "  #save data set in textfile\n",
        "  np.savetxt('Reduced over 1nm.txt', red_to_1nm, delimiter = '\\tab')\n",
        "  content = np.loadtxt('Reduced over 1nm.txt')\n",
        "  print(content)\n",
        "\n",
        "  reduce_data_1nm()\n",
        "\n"
      ],
      "metadata": {
        "colab": {
          "base_uri": "https://localhost:8080/"
        },
        "id": "IxTohrqrpotH",
        "outputId": "c1c899b7-869d-4f0d-d11b-576a0aeab5a6"
      },
      "execution_count": null,
      "outputs": [
        {
          "output_type": "stream",
          "name": "stdout",
          "text": [
            "10000 loops, best of 5: 154 ns per loop\n"
          ]
        }
      ]
    },
    {
      "cell_type": "code",
      "source": [
        "#Difference of 2 wavelengths over time and plot\n",
        "import matplotlib.pyplot as plt\n",
        "def diff_wavelength (wavelength1, wavelength2):\n",
        "  df.columns[250] #wavelength 350nm\n",
        "  df.columns[3398] #wavelength 750nm\n",
        "  y_diff_wavelength = -(df.iloc[:,wavelength2] - df.iloc[:,wavelength1])\n",
        "  #print(y_diff_wavelength)\n",
        "  x_diff_wavelength = df.iloc[:,1]\n",
        "  #print(x_diff_wavelength)\n",
        "  plot = plt.plot(x_diff_wavelength, y_diff_wavelength, 'g', label = 'Measurement 1')\n",
        "  plt.xlabel('time [ms]')\n",
        "  plt.ylabel('Absorbance [a.u]')\n",
        "  plt.title('Absorption')\n",
        "  plt.legend()\n",
        "  plt.savefig('Absorption.png')\n",
        "diff_wavelength(250, 3648)"
      ],
      "metadata": {
        "colab": {
          "base_uri": "https://localhost:8080/",
          "height": 295
        },
        "id": "V0ShcAitsrB8",
        "outputId": "7915ec7a-cb0f-4628-933d-696ae4c37e96"
      },
      "execution_count": null,
      "outputs": [
        {
          "output_type": "display_data",
          "data": {
            "text/plain": [
              "<Figure size 432x288 with 1 Axes>"
            ],
            "image/png": "[encoded data removed]"
          },
          "metadata": {
            "needs_background": "light"
          }
        }
      ]
    },
    {
      "cell_type": "code",
      "source": [
        "#plot full\n",
        "import matplotlib.pyplot as plt\n",
        "full = df.iloc[0,2:]#: gave some plot\n",
        "print(full)\n",
        "plot_1nm = plt.plot(full)"
      ],
      "metadata": {
        "colab": {
          "base_uri": "https://localhost:8080/",
          "height": 477
        },
        "id": "krRhrTw_7aL7",
        "outputId": "2a39a877-230d-4131-8e4c-cd54c356dd95"
      },
      "execution_count": 24,
      "outputs": [
        {
          "output_type": "stream",
          "name": "stdout",
          "text": [
            "316.6137    0.329672\n",
            "316.7492    0.329672\n",
            "316.8847    0.329672\n",
            "317.0203    0.090294\n",
            "317.1558   -0.716926\n",
            "              ...   \n",
            "779.5636   -0.037476\n",
            "779.6822   -0.036856\n",
            "779.8008   -0.036853\n",
            "779.9194     -0.0391\n",
            "780.0381   -0.035545\n",
            "Name: 0, Length: 3648, dtype: object\n"
          ]
        },
        {
          "output_type": "display_data",
          "data": {
            "text/plain": [
              "<Figure size 432x288 with 1 Axes>"
            ],
            "image/png": "[encoded data removed]"
          },
          "metadata": {
            "needs_background": "light"
          }
        }
      ]
    }
  ]
}