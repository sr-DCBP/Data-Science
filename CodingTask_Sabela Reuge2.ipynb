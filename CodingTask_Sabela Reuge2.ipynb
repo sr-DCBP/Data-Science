{
  "nbformat": 4,
  "nbformat_minor": 0,
  "metadata": {
    "colab": {
      "name": "CodingTask1.ipynb",
      "provenance": [],
      "include_colab_link": true
    },
    "kernelspec": {
      "name": "python3",
      "display_name": "Python 3"
    },
    "language_info": {
      "name": "python"
    }
  },
  "cells": [
    {
      "cell_type": "markdown",
      "metadata": {
        "id": "view-in-github",
        "colab_type": "text"
      },
      "source": [
        "<a href=\"https://colab.research.google.com/github/sr-DCBP/Data-Science/blob/main/CodingTask_Sabela%20Reuge2.ipynb\" target=\"_parent\"><img src=\"https://colab.research.google.com/assets/colab-badge.svg\" alt=\"Open In Colab\"/></a>"
      ]
    },
    {
      "cell_type": "markdown",
      "source": [
        "Data Science Fundamentals for DCBP, S. Haug, University of Bern "
      ],
      "metadata": {
        "id": "_-1mhuoK6uqC"
      }
    },
    {
      "cell_type": "markdown",
      "source": [
        "# Coding Task 1\n",
        "\n",
        "- Deadline (upload to Ilias): 2022-03-20 24:00\n",
        "- Estimated effort: 2-5 hours\n",
        "- Data on Ilias (4ms_...) with metadata file CCD-Metadata\n"
      ],
      "metadata": {
        "id": "gn4RkUC66-ou"
      }
    },
    {
      "cell_type": "markdown",
      "source": [
        "## Tasks (maximum 12.5 points)"
      ],
      "metadata": {
        "id": "KYKF2iS56v1z"
      }
    },
    {
      "cell_type": "markdown",
      "source": [
        "- Write a method (function) which removes the header information in the datafile and saves that information into a separate textfile. [0.5 points] \n",
        "- Write a function which reduces the data resolution by averaging over 1, 2, 3 and 4 nm wavelengths. Save these 4 new reduced datasets in new files. Do this (1) by writing an explicit loop and (2) by using pandas methods. Measure the running times of the two approaches. [6 points]\n",
        "- Write a function which takes two wavelengths as input and plots the difference of the data at these lengths over time. [2 points] \n",
        "- Let the x-axis be in seconds, label the axes with names and units, label the plot with color and legend, make a title for the plot. Save the plot to a file. [2 points]\n",
        "- Plot the full and the reduced datasets in the same figure. Is there any visual difference? [2 points]"
      ],
      "metadata": {
        "id": "rXqhhPMu9aPx"
      }
    },
    {
      "cell_type": "code",
      "source": [
        "from google.colab import drive\n",
        "drive.mount('/content/drive')\n",
        "path = '/content/drive/MyDrive/Data science/Absorbance.txt' \n"
      ],
      "metadata": {
        "id": "OfvMackX-SFc",
        "colab": {
          "base_uri": "https://localhost:8080/"
        },
        "outputId": "80a639f5-d340-43b8-c1e6-64e597d01486"
      },
      "execution_count": 2,
      "outputs": [
        {
          "output_type": "stream",
          "name": "stdout",
          "text": [
            "Mounted at /content/drive\n"
          ]
        }
      ]
    },
    {
      "cell_type": "code",
      "source": [
        "import pandas as pd\n",
        "df = pd.read_csv(path, delimiter='\\t', header=13) # skip the metadata to get to the data (values)\n",
        "df.to_csv('data-without-header')\n",
        "df.head()\n",
        "\n"
      ],
      "metadata": {
        "colab": {
          "base_uri": "https://localhost:8080/",
          "height": 386
        },
        "id": "UKYvcLoB2MUf",
        "outputId": "0dd51528-bc5a-45c9-c14a-56cf0da9a18b"
      },
      "execution_count": 3,
      "outputs": [
        {
          "output_type": "execute_result",
          "data": {
            "text/plain": [
              "                   Unnamed: 0     Unnamed: 1  316.6137  316.7492  316.8847  \\\n",
              "0  2018-10-25 10:32:04.789000  1540456324789  0.329672  0.329672  0.329672   \n",
              "1  2018-10-25 10:32:04.878000  1540456324878 -0.044412 -0.044412 -0.044412   \n",
              "2  2018-10-25 10:32:04.962000  1540456324962  0.338219  0.338219  0.338219   \n",
              "3  2018-10-25 10:32:05.046000  1540456325046 -0.049682 -0.049682 -0.049682   \n",
              "4  2018-10-25 10:32:05.129000  1540456325129  0.335086  0.335086  0.335086   \n",
              "\n",
              "   317.0203  317.1558  317.2913  317.4268  317.5623  ...  778.9703   779.089  \\\n",
              "0  0.090294 -0.716926 -1.829304 -0.686330 -0.428776  ... -0.038483 -0.039623   \n",
              "1  0.157632 -0.672423 -2.183981 -0.492421 -0.000000  ... -0.039428 -0.038486   \n",
              "2  0.330993 -0.879836 -0.000000 -0.559845 -0.000000  ... -0.037725 -0.037534   \n",
              "3  0.519086 -0.681150 -0.000000 -0.417230 -0.000000  ... -0.037613 -0.037168   \n",
              "4 -0.041393 -0.000000 -1.802774 -0.510417 -0.000000  ... -0.040919 -0.038288   \n",
              "\n",
              "   779.2076  779.3263  779.4449  779.5636  779.6822  779.8008  779.9194  \\\n",
              "0 -0.036920 -0.037309 -0.037299 -0.037476 -0.036856 -0.036853 -0.039100   \n",
              "1 -0.037309 -0.036357 -0.037289 -0.038728 -0.037214 -0.036902 -0.040210   \n",
              "2 -0.036560 -0.036152 -0.036554 -0.036875 -0.037351 -0.036746 -0.038686   \n",
              "3 -0.036369 -0.034549 -0.036252 -0.037948 -0.036713 -0.035706 -0.038203   \n",
              "4 -0.035840 -0.035638 -0.039504 -0.040093 -0.039953 -0.037656 -0.038082   \n",
              "\n",
              "   780.0381  \n",
              "0 -0.035545  \n",
              "1 -0.038165  \n",
              "2 -0.036903  \n",
              "3 -0.036822  \n",
              "4 -0.035900  \n",
              "\n",
              "[5 rows x 3650 columns]"
            ],
            "text/html": [
              "\n",
              "  <div id=\"df-7490d275-5417-41c6-9517-bd7e6d1e7de6\">\n",
              "    <div class=\"colab-df-container\">\n",
              "      <div>\n",
              "<style scoped>\n",
              "    .dataframe tbody tr th:only-of-type {\n",
              "        vertical-align: middle;\n",
              "    }\n",
              "\n",
              "    .dataframe tbody tr th {\n",
              "        vertical-align: top;\n",
              "    }\n",
              "\n",
              "    .dataframe thead th {\n",
              "        text-align: right;\n",
              "    }\n",
              "</style>\n",
              "<table border=\"1\" class=\"dataframe\">\n",
              "  <thead>\n",
              "    <tr style=\"text-align: right;\">\n",
              "      <th></th>\n",
              "      <th>Unnamed: 0</th>\n",
              "      <th>Unnamed: 1</th>\n",
              "      <th>316.6137</th>\n",
              "      <th>316.7492</th>\n",
              "      <th>316.8847</th>\n",
              "      <th>317.0203</th>\n",
              "      <th>317.1558</th>\n",
              "      <th>317.2913</th>\n",
              "      <th>317.4268</th>\n",
              "      <th>317.5623</th>\n",
              "      <th>...</th>\n",
              "      <th>778.9703</th>\n",
              "      <th>779.089</th>\n",
              "      <th>779.2076</th>\n",
              "      <th>779.3263</th>\n",
              "      <th>779.4449</th>\n",
              "      <th>779.5636</th>\n",
              "      <th>779.6822</th>\n",
              "      <th>779.8008</th>\n",
              "      <th>779.9194</th>\n",
              "      <th>780.0381</th>\n",
              "    </tr>\n",
              "  </thead>\n",
              "  <tbody>\n",
              "    <tr>\n",
              "      <th>0</th>\n",
              "      <td>2018-10-25 10:32:04.789000</td>\n",
              "      <td>1540456324789</td>\n",
              "      <td>0.329672</td>\n",
              "      <td>0.329672</td>\n",
              "      <td>0.329672</td>\n",
              "      <td>0.090294</td>\n",
              "      <td>-0.716926</td>\n",
              "      <td>-1.829304</td>\n",
              "      <td>-0.686330</td>\n",
              "      <td>-0.428776</td>\n",
              "      <td>...</td>\n",
              "      <td>-0.038483</td>\n",
              "      <td>-0.039623</td>\n",
              "      <td>-0.036920</td>\n",
              "      <td>-0.037309</td>\n",
              "      <td>-0.037299</td>\n",
              "      <td>-0.037476</td>\n",
              "      <td>-0.036856</td>\n",
              "      <td>-0.036853</td>\n",
              "      <td>-0.039100</td>\n",
              "      <td>-0.035545</td>\n",
              "    </tr>\n",
              "    <tr>\n",
              "      <th>1</th>\n",
              "      <td>2018-10-25 10:32:04.878000</td>\n",
              "      <td>1540456324878</td>\n",
              "      <td>-0.044412</td>\n",
              "      <td>-0.044412</td>\n",
              "      <td>-0.044412</td>\n",
              "      <td>0.157632</td>\n",
              "      <td>-0.672423</td>\n",
              "      <td>-2.183981</td>\n",
              "      <td>-0.492421</td>\n",
              "      <td>-0.000000</td>\n",
              "      <td>...</td>\n",
              "      <td>-0.039428</td>\n",
              "      <td>-0.038486</td>\n",
              "      <td>-0.037309</td>\n",
              "      <td>-0.036357</td>\n",
              "      <td>-0.037289</td>\n",
              "      <td>-0.038728</td>\n",
              "      <td>-0.037214</td>\n",
              "      <td>-0.036902</td>\n",
              "      <td>-0.040210</td>\n",
              "      <td>-0.038165</td>\n",
              "    </tr>\n",
              "    <tr>\n",
              "      <th>2</th>\n",
              "      <td>2018-10-25 10:32:04.962000</td>\n",
              "      <td>1540456324962</td>\n",
              "      <td>0.338219</td>\n",
              "      <td>0.338219</td>\n",
              "      <td>0.338219</td>\n",
              "      <td>0.330993</td>\n",
              "      <td>-0.879836</td>\n",
              "      <td>-0.000000</td>\n",
              "      <td>-0.559845</td>\n",
              "      <td>-0.000000</td>\n",
              "      <td>...</td>\n",
              "      <td>-0.037725</td>\n",
              "      <td>-0.037534</td>\n",
              "      <td>-0.036560</td>\n",
              "      <td>-0.036152</td>\n",
              "      <td>-0.036554</td>\n",
              "      <td>-0.036875</td>\n",
              "      <td>-0.037351</td>\n",
              "      <td>-0.036746</td>\n",
              "      <td>-0.038686</td>\n",
              "      <td>-0.036903</td>\n",
              "    </tr>\n",
              "    <tr>\n",
              "      <th>3</th>\n",
              "      <td>2018-10-25 10:32:05.046000</td>\n",
              "      <td>1540456325046</td>\n",
              "      <td>-0.049682</td>\n",
              "      <td>-0.049682</td>\n",
              "      <td>-0.049682</td>\n",
              "      <td>0.519086</td>\n",
              "      <td>-0.681150</td>\n",
              "      <td>-0.000000</td>\n",
              "      <td>-0.417230</td>\n",
              "      <td>-0.000000</td>\n",
              "      <td>...</td>\n",
              "      <td>-0.037613</td>\n",
              "      <td>-0.037168</td>\n",
              "      <td>-0.036369</td>\n",
              "      <td>-0.034549</td>\n",
              "      <td>-0.036252</td>\n",
              "      <td>-0.037948</td>\n",
              "      <td>-0.036713</td>\n",
              "      <td>-0.035706</td>\n",
              "      <td>-0.038203</td>\n",
              "      <td>-0.036822</td>\n",
              "    </tr>\n",
              "    <tr>\n",
              "      <th>4</th>\n",
              "      <td>2018-10-25 10:32:05.129000</td>\n",
              "      <td>1540456325129</td>\n",
              "      <td>0.335086</td>\n",
              "      <td>0.335086</td>\n",
              "      <td>0.335086</td>\n",
              "      <td>-0.041393</td>\n",
              "      <td>-0.000000</td>\n",
              "      <td>-1.802774</td>\n",
              "      <td>-0.510417</td>\n",
              "      <td>-0.000000</td>\n",
              "      <td>...</td>\n",
              "      <td>-0.040919</td>\n",
              "      <td>-0.038288</td>\n",
              "      <td>-0.035840</td>\n",
              "      <td>-0.035638</td>\n",
              "      <td>-0.039504</td>\n",
              "      <td>-0.040093</td>\n",
              "      <td>-0.039953</td>\n",
              "      <td>-0.037656</td>\n",
              "      <td>-0.038082</td>\n",
              "      <td>-0.035900</td>\n",
              "    </tr>\n",
              "  </tbody>\n",
              "</table>\n",
              "<p>5 rows × 3650 columns</p>\n",
              "</div>\n",
              "      <button class=\"colab-df-convert\" onclick=\"convertToInteractive('df-7490d275-5417-41c6-9517-bd7e6d1e7de6')\"\n",
              "              title=\"Convert this dataframe to an interactive table.\"\n",
              "              style=\"display:none;\">\n",
              "        \n",
              "  <svg xmlns=\"http://www.w3.org/2000/svg\" height=\"24px\"viewBox=\"0 0 24 24\"\n",
              "       width=\"24px\">\n",
              "    <path d=\"M0 0h24v24H0V0z\" fill=\"none\"/>\n",
              "    <path d=\"M18.56 5.44l.94 2.06.94-2.06 2.06-.94-2.06-.94-.94-2.06-.94 2.06-2.06.94zm-11 1L8.5 8.5l.94-2.06 2.06-.94-2.06-.94L8.5 2.5l-.94 2.06-2.06.94zm10 10l.94 2.06.94-2.06 2.06-.94-2.06-.94-.94-2.06-.94 2.06-2.06.94z\"/><path d=\"M17.41 7.96l-1.37-1.37c-.4-.4-.92-.59-1.43-.59-.52 0-1.04.2-1.43.59L10.3 9.45l-7.72 7.72c-.78.78-.78 2.05 0 2.83L4 21.41c.39.39.9.59 1.41.59.51 0 1.02-.2 1.41-.59l7.78-7.78 2.81-2.81c.8-.78.8-2.07 0-2.86zM5.41 20L4 18.59l7.72-7.72 1.47 1.35L5.41 20z\"/>\n",
              "  </svg>\n",
              "      </button>\n",
              "      \n",
              "  <style>\n",
              "    .colab-df-container {\n",
              "      display:flex;\n",
              "      flex-wrap:wrap;\n",
              "      gap: 12px;\n",
              "    }\n",
              "\n",
              "    .colab-df-convert {\n",
              "      background-color: #E8F0FE;\n",
              "      border: none;\n",
              "      border-radius: 50%;\n",
              "      cursor: pointer;\n",
              "      display: none;\n",
              "      fill: #1967D2;\n",
              "      height: 32px;\n",
              "      padding: 0 0 0 0;\n",
              "      width: 32px;\n",
              "    }\n",
              "\n",
              "    .colab-df-convert:hover {\n",
              "      background-color: #E2EBFA;\n",
              "      box-shadow: 0px 1px 2px rgba(60, 64, 67, 0.3), 0px 1px 3px 1px rgba(60, 64, 67, 0.15);\n",
              "      fill: #174EA6;\n",
              "    }\n",
              "\n",
              "    [theme=dark] .colab-df-convert {\n",
              "      background-color: #3B4455;\n",
              "      fill: #D2E3FC;\n",
              "    }\n",
              "\n",
              "    [theme=dark] .colab-df-convert:hover {\n",
              "      background-color: #434B5C;\n",
              "      box-shadow: 0px 1px 3px 1px rgba(0, 0, 0, 0.15);\n",
              "      filter: drop-shadow(0px 1px 2px rgba(0, 0, 0, 0.3));\n",
              "      fill: #FFFFFF;\n",
              "    }\n",
              "  </style>\n",
              "\n",
              "      <script>\n",
              "        const buttonEl =\n",
              "          document.querySelector('#df-7490d275-5417-41c6-9517-bd7e6d1e7de6 button.colab-df-convert');\n",
              "        buttonEl.style.display =\n",
              "          google.colab.kernel.accessAllowed ? 'block' : 'none';\n",
              "\n",
              "        async function convertToInteractive(key) {\n",
              "          const element = document.querySelector('#df-7490d275-5417-41c6-9517-bd7e6d1e7de6');\n",
              "          const dataTable =\n",
              "            await google.colab.kernel.invokeFunction('convertToInteractive',\n",
              "                                                     [key], {});\n",
              "          if (!dataTable) return;\n",
              "\n",
              "          const docLinkHtml = 'Like what you see? Visit the ' +\n",
              "            '<a target=\"_blank\" href=https://colab.research.google.com/notebooks/data_table.ipynb>data table notebook</a>'\n",
              "            + ' to learn more about interactive tables.';\n",
              "          element.innerHTML = '';\n",
              "          dataTable['output_type'] = 'display_data';\n",
              "          await google.colab.output.renderOutput(dataTable, element);\n",
              "          const docLink = document.createElement('div');\n",
              "          docLink.innerHTML = docLinkHtml;\n",
              "          element.appendChild(docLink);\n",
              "        }\n",
              "      </script>\n",
              "    </div>\n",
              "  </div>\n",
              "  "
            ]
          },
          "metadata": {},
          "execution_count": 3
        }
      ]
    },
    {
      "cell_type": "code",
      "source": [
        "#df.iloc[2,1]\n",
        "#dif = df.iloc[2,1] - df.iloc[1,1]\n",
        "#print (dif)\n",
        "\n",
        "#time_array = []\n",
        "#for i in range (2,3650, 7):\n",
        "#  ms = df.iloc[i+1] - df.iloc[i]\n",
        "#  time_array.append(ms)\n",
        "#  print (ms)\n",
        "\n",
        "# try to make average of 1nm (7 values)\n",
        "\n",
        "##import numpy as np\n",
        "\n",
        "##def average(a, n) :\n",
        "##    ret = np.cumsum(a, dtype=float)\n",
        "##    ret[n:] = ret[n:] - ret[:-n]\n",
        "##    return ret[n - 1:] / n\n",
        "\n",
        "##data = np.array([5,4,3,2,10,11,13,14,15,16,19,7])\n",
        "\n",
        "##print(average(data,1)) \n"
      ],
      "metadata": {
        "id": "wvP3lY5O3Fet"
      },
      "execution_count": null,
      "outputs": []
    },
    {
      "cell_type": "code",
      "source": [
        "#Task 2 with pandas, reduce to 1 nm\n",
        "#wavelength of all the measurements and their absorption\n",
        "import numpy as np\n",
        "import pandas as pd\n",
        "def reduce_data_1nm():\n",
        "  set1 = df.iloc[:,2:]\n",
        "  print(set1)\n",
        "  #average over 1 nm of all measurements, which is roughly 6 values\n",
        "  m = 6\n",
        "  a = np.array(set1)\n",
        "  red_to_1nm = a.reshape(-1, m).mean(axis=1)\n",
        "  print(red_to_1nm)\n",
        "  #save data set in textfile\n",
        "  np.savetxt('Reduced over 1nm.txt', red_to_1nm, delimiter = '\\tab')\n",
        "  content = np.loadtxt('Reduced over 1nm.txt')\n",
        "  print(content)\n",
        "\n",
        "reduce_data_1nm()"
      ],
      "metadata": {
        "id": "4CfEVbwcUpUf",
        "outputId": "775a7d0d-88f6-4087-cec1-f1561ff64f50",
        "colab": {
          "base_uri": "https://localhost:8080/"
        }
      },
      "execution_count": 4,
      "outputs": [
        {
          "output_type": "stream",
          "name": "stdout",
          "text": [
            "     316.6137  316.7492  316.8847  317.0203  317.1558  317.2913  317.4268  \\\n",
            "0    0.329672  0.329672  0.329672  0.090294 -0.716926 -1.829304 -0.686330   \n",
            "1   -0.044412 -0.044412 -0.044412  0.157632 -0.672423 -2.183981 -0.492421   \n",
            "2    0.338219  0.338219  0.338219  0.330993 -0.879836 -0.000000 -0.559845   \n",
            "3   -0.049682 -0.049682 -0.049682  0.519086 -0.681150 -0.000000 -0.417230   \n",
            "4    0.335086  0.335086  0.335086 -0.041393 -0.000000 -1.802774 -0.510417   \n",
            "..        ...       ...       ...       ...       ...       ...       ...   \n",
            "350 -0.048929 -0.048929 -0.048929 -0.052674 -0.739370 -2.155336 -0.520450   \n",
            "351  0.851907  0.851907  0.851907 -0.111298 -0.639166 -2.039414 -0.531784   \n",
            "352  0.329255  0.329255  0.329255  0.064351  0.316582 -2.107210 -0.298427   \n",
            "353  0.330061  0.330061  0.330061  0.081473 -0.525273 -1.750123 -0.134352   \n",
            "354  0.101879  0.101879  0.101879  0.177809 -0.456259 -0.000000 -0.157833   \n",
            "\n",
            "     317.5623  317.6977  317.8332  ...  778.9703   779.089  779.2076  \\\n",
            "0   -0.428776  1.740363 -0.000000  ... -0.038483 -0.039623 -0.036920   \n",
            "1   -0.000000 -0.695800 -0.000000  ... -0.039428 -0.038486 -0.037309   \n",
            "2   -0.000000 -0.275276  0.627907  ... -0.037725 -0.037534 -0.036560   \n",
            "3   -0.000000 -0.140451 -0.000000  ... -0.037613 -0.037168 -0.036369   \n",
            "4   -0.000000 -0.000000 -0.000000  ... -0.040919 -0.038288 -0.035840   \n",
            "..        ...       ...       ...  ...       ...       ...       ...   \n",
            "350 -0.000000 -0.042587 -0.000000  ... -0.038112 -0.036615 -0.035938   \n",
            "351 -0.000000 -0.244914 -0.000000  ... -0.036887 -0.036921 -0.035249   \n",
            "352  0.570461 -0.000000 -0.000000  ... -0.037311 -0.036231 -0.037977   \n",
            "353  0.243550 -0.000000 -0.000000  ... -0.036267 -0.036341 -0.037307   \n",
            "354 -0.376095 -0.000000 -0.000000  ... -0.037316 -0.035830 -0.036852   \n",
            "\n",
            "     779.3263  779.4449  779.5636  779.6822  779.8008  779.9194  780.0381  \n",
            "0   -0.037309 -0.037299 -0.037476 -0.036856 -0.036853 -0.039100 -0.035545  \n",
            "1   -0.036357 -0.037289 -0.038728 -0.037214 -0.036902 -0.040210 -0.038165  \n",
            "2   -0.036152 -0.036554 -0.036875 -0.037351 -0.036746 -0.038686 -0.036903  \n",
            "3   -0.034549 -0.036252 -0.037948 -0.036713 -0.035706 -0.038203 -0.036822  \n",
            "4   -0.035638 -0.039504 -0.040093 -0.039953 -0.037656 -0.038082 -0.035900  \n",
            "..        ...       ...       ...       ...       ...       ...       ...  \n",
            "350 -0.034245 -0.035340 -0.037055 -0.035771 -0.036557 -0.037451 -0.033582  \n",
            "351 -0.033394 -0.035231 -0.035815 -0.037457 -0.035020 -0.038338 -0.035408  \n",
            "352 -0.033525 -0.035225 -0.036255 -0.036670 -0.036079 -0.038006 -0.035039  \n",
            "353 -0.035010 -0.036073 -0.036282 -0.036911 -0.036554 -0.037560 -0.034496  \n",
            "354 -0.034170 -0.034227 -0.035085 -0.035308 -0.034768 -0.036334 -0.034725  \n",
            "\n",
            "[355 rows x 3648 columns]\n",
            "[-0.24448667  0.17756567 -0.06638983 ... -0.03483117 -0.03635233\n",
            " -0.0350745 ]\n",
            "[-0.24448667  0.17756567 -0.06638983 ... -0.03483117 -0.03635233\n",
            " -0.0350745 ]\n"
          ]
        }
      ]
    },
    {
      "cell_type": "code",
      "source": [
        "#Task 2, reduce to 2 nm\n",
        "#wavelength of all the measurements and their absorption\n",
        "set1 = df.iloc[:,2:]\n",
        "#print(set1)\n",
        "\n",
        "#average over 2 nm of all measurements, which is roughly 12 values\n",
        "m = 12\n",
        "a = np.array(set1)\n",
        "red_to_2nm = a.reshape(-1, m).mean(axis=1)\n",
        "#print(red_to_1nm)\n",
        "\n",
        "#save data set in textfile\n",
        "np.savetxt('Reduced over 2nm.txt', red_to_2nm, delimiter = '\\tab')\n",
        "content = np.loadtxt('Reduced over 2nm.txt')\n",
        "print(content)"
      ],
      "metadata": {
        "colab": {
          "base_uri": "https://localhost:8080/"
        },
        "id": "07j54LIYIM46",
        "outputId": "76499d28-0b75-48ca-ef89-80d0d114cbbb"
      },
      "execution_count": null,
      "outputs": [
        {
          "output_type": "stream",
          "name": "stdout",
          "text": [
            "[-0.0334605   0.044464    0.071475   ... -0.0368525  -0.03533767\n",
            " -0.03571342]\n"
          ]
        }
      ]
    },
    {
      "cell_type": "code",
      "source": [
        "#Task 2, reduce to 3 nm\n",
        "#wavelength of all the measurements and their absorption\n",
        "set1 = df.iloc[:,2:]\n",
        "#print(set1)\n",
        "\n",
        "#average over 3 nm of all measurements, which is roughly 16 values\n",
        "m = 16\n",
        "a = np.array(set1)\n",
        "red_to_3nm = a.reshape(-1, m).mean(axis=1)\n",
        "#print(red_to_1nm)\n",
        "\n",
        "#save data set in textfile\n",
        "np.savetxt('Reduced over 3nm.txt', red_to_3nm, delimiter = '\\tab')\n",
        "content = np.loadtxt('Reduced over 3nm.txt')\n",
        "print(content)"
      ],
      "metadata": {
        "colab": {
          "base_uri": "https://localhost:8080/"
        },
        "id": "iiaISilwMdrP",
        "outputId": "74d0be61-0f37-4bec-9c3f-54777f8929da"
      },
      "execution_count": null,
      "outputs": [
        {
          "output_type": "stream",
          "name": "stdout",
          "text": [
            "[-0.06078606  0.13089131  0.02636288 ... -0.03593125 -0.03648325\n",
            " -0.03543975]\n"
          ]
        }
      ]
    },
    {
      "cell_type": "code",
      "source": [
        "#Task 2, reduce to 4 nm\n",
        "#wavelength of all the measurements and their absorption\n",
        "set1 = df.iloc[:,2:]\n",
        "#print(set1)\n",
        "\n",
        "#average over 4 nm of all measurements, which is roughly 24 values\n",
        "m = 24\n",
        "a = np.array(set1)\n",
        "red_to_4nm = a.reshape(-1, m).mean(axis=1)\n",
        "#print(red_to_1nm)\n",
        "\n",
        "#save data set in textfile\n",
        "np.savetxt('Reduced over 4nm.txt', red_to_4nm, delimiter = '\\tab')\n",
        "content = np.loadtxt('Reduced over 4nm.txt')\n",
        "print(content)"
      ],
      "metadata": {
        "colab": {
          "base_uri": "https://localhost:8080/"
        },
        "id": "Ug8LwywuMpCq",
        "outputId": "fe43234a-1df4-484e-9de3-19787429c6cd"
      },
      "execution_count": null,
      "outputs": [
        {
          "output_type": "stream",
          "name": "stdout",
          "text": [
            "[ 0.00550175  0.05881033 -0.11100413 ... -0.03696962 -0.03637729\n",
            " -0.03552554]\n"
          ]
        }
      ]
    },
    {
      "cell_type": "code",
      "source": [
        "import numpy as np\n",
        "import pandas as pd\n",
        "def reduce_data_1nm():\n",
        "  set1 = df.iloc[:,2:]\n",
        "  print(set1)\n",
        "  #average over 1 nm of all measurements, which is roughly 6 values\n",
        "  m = 6\n",
        "  a = np.array(set1)\n",
        "  red_to_1nm = a.reshape(-1, m).mean(axis=1)\n",
        "  print(red_to_1nm)\n",
        "  #save data set in textfile\n",
        "  np.savetxt('Reduced over 1nm.txt', red_to_1nm, delimiter = '\\tab')\n",
        "  content = np.loadtxt('Reduced over 1nm.txt')\n",
        "  print(content)\n",
        "\n",
        "reduce_data_1nm()"
      ],
      "metadata": {
        "id": "psZNCQaBSv5j",
        "outputId": "029c9e16-ecf5-4513-e6f7-d2e55e35e161",
        "colab": {
          "base_uri": "https://localhost:8080/"
        }
      },
      "execution_count": 13,
      "outputs": [
        {
          "output_type": "stream",
          "name": "stdout",
          "text": [
            "     316.6137  316.7492  316.8847  317.0203  317.1558  317.2913  317.4268  \\\n",
            "0    0.329672  0.329672  0.329672  0.090294 -0.716926 -1.829304 -0.686330   \n",
            "1   -0.044412 -0.044412 -0.044412  0.157632 -0.672423 -2.183981 -0.492421   \n",
            "2    0.338219  0.338219  0.338219  0.330993 -0.879836 -0.000000 -0.559845   \n",
            "3   -0.049682 -0.049682 -0.049682  0.519086 -0.681150 -0.000000 -0.417230   \n",
            "4    0.335086  0.335086  0.335086 -0.041393 -0.000000 -1.802774 -0.510417   \n",
            "..        ...       ...       ...       ...       ...       ...       ...   \n",
            "350 -0.048929 -0.048929 -0.048929 -0.052674 -0.739370 -2.155336 -0.520450   \n",
            "351  0.851907  0.851907  0.851907 -0.111298 -0.639166 -2.039414 -0.531784   \n",
            "352  0.329255  0.329255  0.329255  0.064351  0.316582 -2.107210 -0.298427   \n",
            "353  0.330061  0.330061  0.330061  0.081473 -0.525273 -1.750123 -0.134352   \n",
            "354  0.101879  0.101879  0.101879  0.177809 -0.456259 -0.000000 -0.157833   \n",
            "\n",
            "     317.5623  317.6977  317.8332  ...  778.9703   779.089  779.2076  \\\n",
            "0   -0.428776  1.740363 -0.000000  ... -0.038483 -0.039623 -0.036920   \n",
            "1   -0.000000 -0.695800 -0.000000  ... -0.039428 -0.038486 -0.037309   \n",
            "2   -0.000000 -0.275276  0.627907  ... -0.037725 -0.037534 -0.036560   \n",
            "3   -0.000000 -0.140451 -0.000000  ... -0.037613 -0.037168 -0.036369   \n",
            "4   -0.000000 -0.000000 -0.000000  ... -0.040919 -0.038288 -0.035840   \n",
            "..        ...       ...       ...  ...       ...       ...       ...   \n",
            "350 -0.000000 -0.042587 -0.000000  ... -0.038112 -0.036615 -0.035938   \n",
            "351 -0.000000 -0.244914 -0.000000  ... -0.036887 -0.036921 -0.035249   \n",
            "352  0.570461 -0.000000 -0.000000  ... -0.037311 -0.036231 -0.037977   \n",
            "353  0.243550 -0.000000 -0.000000  ... -0.036267 -0.036341 -0.037307   \n",
            "354 -0.376095 -0.000000 -0.000000  ... -0.037316 -0.035830 -0.036852   \n",
            "\n",
            "     779.3263  779.4449  779.5636  779.6822  779.8008  779.9194  780.0381  \n",
            "0   -0.037309 -0.037299 -0.037476 -0.036856 -0.036853 -0.039100 -0.035545  \n",
            "1   -0.036357 -0.037289 -0.038728 -0.037214 -0.036902 -0.040210 -0.038165  \n",
            "2   -0.036152 -0.036554 -0.036875 -0.037351 -0.036746 -0.038686 -0.036903  \n",
            "3   -0.034549 -0.036252 -0.037948 -0.036713 -0.035706 -0.038203 -0.036822  \n",
            "4   -0.035638 -0.039504 -0.040093 -0.039953 -0.037656 -0.038082 -0.035900  \n",
            "..        ...       ...       ...       ...       ...       ...       ...  \n",
            "350 -0.034245 -0.035340 -0.037055 -0.035771 -0.036557 -0.037451 -0.033582  \n",
            "351 -0.033394 -0.035231 -0.035815 -0.037457 -0.035020 -0.038338 -0.035408  \n",
            "352 -0.033525 -0.035225 -0.036255 -0.036670 -0.036079 -0.038006 -0.035039  \n",
            "353 -0.035010 -0.036073 -0.036282 -0.036911 -0.036554 -0.037560 -0.034496  \n",
            "354 -0.034170 -0.034227 -0.035085 -0.035308 -0.034768 -0.036334 -0.034725  \n",
            "\n",
            "[355 rows x 3648 columns]\n",
            "[-0.24448667  0.17756567 -0.06638983 ... -0.03483117 -0.03635233\n",
            " -0.0350745 ]\n",
            "[-0.24448667  0.17756567 -0.06638983 ... -0.03483117 -0.03635233\n",
            " -0.0350745 ]\n"
          ]
        }
      ]
    },
    {
      "cell_type": "code",
      "source": [
        "df.iloc[2,1]\n",
        "dif = df.iloc[2,1] - df.iloc[1,1]\n",
        "print (dif)\n",
        "\n",
        "time_array = []\n",
        "for i in range (2,3650, 7):\n",
        "  ms = df.iloc[i+1] - df.iloc[i]\n",
        "  time_array.append(ms)\n",
        "  print (ms)\n",
        "  "
      ],
      "metadata": {
        "colab": {
          "base_uri": "https://localhost:8080/",
          "height": 450
        },
        "id": "krRhrTw_7aL7",
        "outputId": "2d1b8707-1de8-42fa-abe8-75d9a94d6009"
      },
      "execution_count": null,
      "outputs": [
        {
          "output_type": "stream",
          "name": "stdout",
          "text": [
            "84\n"
          ]
        },
        {
          "output_type": "error",
          "ename": "TypeError",
          "evalue": "ignored",
          "traceback": [
            "\u001b[0;31m---------------------------------------------------------------------------\u001b[0m",
            "\u001b[0;31mTypeError\u001b[0m                                 Traceback (most recent call last)",
            "\u001b[0;32m/usr/local/lib/python3.7/dist-packages/pandas/core/ops/array_ops.py\u001b[0m in \u001b[0;36m_na_arithmetic_op\u001b[0;34m(left, right, op, is_cmp)\u001b[0m\n\u001b[1;32m    165\u001b[0m     \u001b[0;32mtry\u001b[0m\u001b[0;34m:\u001b[0m\u001b[0;34m\u001b[0m\u001b[0;34m\u001b[0m\u001b[0m\n\u001b[0;32m--> 166\u001b[0;31m         \u001b[0mresult\u001b[0m \u001b[0;34m=\u001b[0m \u001b[0mfunc\u001b[0m\u001b[0;34m(\u001b[0m\u001b[0mleft\u001b[0m\u001b[0;34m,\u001b[0m \u001b[0mright\u001b[0m\u001b[0;34m)\u001b[0m\u001b[0;34m\u001b[0m\u001b[0;34m\u001b[0m\u001b[0m\n\u001b[0m\u001b[1;32m    167\u001b[0m     \u001b[0;32mexcept\u001b[0m \u001b[0mTypeError\u001b[0m\u001b[0;34m:\u001b[0m\u001b[0;34m\u001b[0m\u001b[0;34m\u001b[0m\u001b[0m\n",
            "\u001b[0;32m/usr/local/lib/python3.7/dist-packages/pandas/core/computation/expressions.py\u001b[0m in \u001b[0;36mevaluate\u001b[0;34m(op, a, b, use_numexpr)\u001b[0m\n\u001b[1;32m    238\u001b[0m             \u001b[0;31m# error: \"None\" not callable\u001b[0m\u001b[0;34m\u001b[0m\u001b[0;34m\u001b[0m\u001b[0;34m\u001b[0m\u001b[0m\n\u001b[0;32m--> 239\u001b[0;31m             \u001b[0;32mreturn\u001b[0m \u001b[0m_evaluate\u001b[0m\u001b[0;34m(\u001b[0m\u001b[0mop\u001b[0m\u001b[0;34m,\u001b[0m \u001b[0mop_str\u001b[0m\u001b[0;34m,\u001b[0m \u001b[0ma\u001b[0m\u001b[0;34m,\u001b[0m \u001b[0mb\u001b[0m\u001b[0;34m)\u001b[0m  \u001b[0;31m# type: ignore[misc]\u001b[0m\u001b[0;34m\u001b[0m\u001b[0;34m\u001b[0m\u001b[0m\n\u001b[0m\u001b[1;32m    240\u001b[0m     \u001b[0;32mreturn\u001b[0m \u001b[0m_evaluate_standard\u001b[0m\u001b[0;34m(\u001b[0m\u001b[0mop\u001b[0m\u001b[0;34m,\u001b[0m \u001b[0mop_str\u001b[0m\u001b[0;34m,\u001b[0m \u001b[0ma\u001b[0m\u001b[0;34m,\u001b[0m \u001b[0mb\u001b[0m\u001b[0;34m)\u001b[0m\u001b[0;34m\u001b[0m\u001b[0;34m\u001b[0m\u001b[0m\n",
            "\u001b[0;32m/usr/local/lib/python3.7/dist-packages/pandas/core/computation/expressions.py\u001b[0m in \u001b[0;36m_evaluate_numexpr\u001b[0;34m(op, op_str, a, b)\u001b[0m\n\u001b[1;32m    127\u001b[0m     \u001b[0;32mif\u001b[0m \u001b[0mresult\u001b[0m \u001b[0;32mis\u001b[0m \u001b[0;32mNone\u001b[0m\u001b[0;34m:\u001b[0m\u001b[0;34m\u001b[0m\u001b[0;34m\u001b[0m\u001b[0m\n\u001b[0;32m--> 128\u001b[0;31m         \u001b[0mresult\u001b[0m \u001b[0;34m=\u001b[0m \u001b[0m_evaluate_standard\u001b[0m\u001b[0;34m(\u001b[0m\u001b[0mop\u001b[0m\u001b[0;34m,\u001b[0m \u001b[0mop_str\u001b[0m\u001b[0;34m,\u001b[0m \u001b[0ma\u001b[0m\u001b[0;34m,\u001b[0m \u001b[0mb\u001b[0m\u001b[0;34m)\u001b[0m\u001b[0;34m\u001b[0m\u001b[0;34m\u001b[0m\u001b[0m\n\u001b[0m\u001b[1;32m    129\u001b[0m \u001b[0;34m\u001b[0m\u001b[0m\n",
            "\u001b[0;32m/usr/local/lib/python3.7/dist-packages/pandas/core/computation/expressions.py\u001b[0m in \u001b[0;36m_evaluate_standard\u001b[0;34m(op, op_str, a, b)\u001b[0m\n\u001b[1;32m     68\u001b[0m         \u001b[0m_store_test_result\u001b[0m\u001b[0;34m(\u001b[0m\u001b[0;32mFalse\u001b[0m\u001b[0;34m)\u001b[0m\u001b[0;34m\u001b[0m\u001b[0;34m\u001b[0m\u001b[0m\n\u001b[0;32m---> 69\u001b[0;31m     \u001b[0;32mreturn\u001b[0m \u001b[0mop\u001b[0m\u001b[0;34m(\u001b[0m\u001b[0ma\u001b[0m\u001b[0;34m,\u001b[0m \u001b[0mb\u001b[0m\u001b[0;34m)\u001b[0m\u001b[0;34m\u001b[0m\u001b[0;34m\u001b[0m\u001b[0m\n\u001b[0m\u001b[1;32m     70\u001b[0m \u001b[0;34m\u001b[0m\u001b[0m\n",
            "\u001b[0;31mTypeError\u001b[0m: unsupported operand type(s) for -: 'str' and 'str'",
            "\nDuring handling of the above exception, another exception occurred:\n",
            "\u001b[0;31mTypeError\u001b[0m                                 Traceback (most recent call last)",
            "\u001b[0;32m<ipython-input-4-8b65f16a40ae>\u001b[0m in \u001b[0;36m<module>\u001b[0;34m()\u001b[0m\n\u001b[1;32m      5\u001b[0m \u001b[0mtime_array\u001b[0m \u001b[0;34m=\u001b[0m \u001b[0;34m[\u001b[0m\u001b[0;34m]\u001b[0m\u001b[0;34m\u001b[0m\u001b[0;34m\u001b[0m\u001b[0m\n\u001b[1;32m      6\u001b[0m \u001b[0;32mfor\u001b[0m \u001b[0mi\u001b[0m \u001b[0;32min\u001b[0m \u001b[0mrange\u001b[0m \u001b[0;34m(\u001b[0m\u001b[0;36m2\u001b[0m\u001b[0;34m,\u001b[0m\u001b[0;36m3650\u001b[0m\u001b[0;34m,\u001b[0m \u001b[0;36m7\u001b[0m\u001b[0;34m)\u001b[0m\u001b[0;34m:\u001b[0m\u001b[0;34m\u001b[0m\u001b[0;34m\u001b[0m\u001b[0m\n\u001b[0;32m----> 7\u001b[0;31m   \u001b[0mms\u001b[0m \u001b[0;34m=\u001b[0m \u001b[0mdf\u001b[0m\u001b[0;34m.\u001b[0m\u001b[0miloc\u001b[0m\u001b[0;34m[\u001b[0m\u001b[0mi\u001b[0m\u001b[0;34m+\u001b[0m\u001b[0;36m1\u001b[0m\u001b[0;34m]\u001b[0m \u001b[0;34m-\u001b[0m \u001b[0mdf\u001b[0m\u001b[0;34m.\u001b[0m\u001b[0miloc\u001b[0m\u001b[0;34m[\u001b[0m\u001b[0mi\u001b[0m\u001b[0;34m]\u001b[0m\u001b[0;34m\u001b[0m\u001b[0;34m\u001b[0m\u001b[0m\n\u001b[0m\u001b[1;32m      8\u001b[0m   \u001b[0mtime_array\u001b[0m\u001b[0;34m.\u001b[0m\u001b[0mappend\u001b[0m\u001b[0;34m(\u001b[0m\u001b[0mms\u001b[0m\u001b[0;34m)\u001b[0m\u001b[0;34m\u001b[0m\u001b[0;34m\u001b[0m\u001b[0m\n\u001b[1;32m      9\u001b[0m   \u001b[0mprint\u001b[0m \u001b[0;34m(\u001b[0m\u001b[0mms\u001b[0m\u001b[0;34m)\u001b[0m\u001b[0;34m\u001b[0m\u001b[0;34m\u001b[0m\u001b[0m\n",
            "\u001b[0;32m/usr/local/lib/python3.7/dist-packages/pandas/core/ops/common.py\u001b[0m in \u001b[0;36mnew_method\u001b[0;34m(self, other)\u001b[0m\n\u001b[1;32m     67\u001b[0m         \u001b[0mother\u001b[0m \u001b[0;34m=\u001b[0m \u001b[0mitem_from_zerodim\u001b[0m\u001b[0;34m(\u001b[0m\u001b[0mother\u001b[0m\u001b[0;34m)\u001b[0m\u001b[0;34m\u001b[0m\u001b[0;34m\u001b[0m\u001b[0m\n\u001b[1;32m     68\u001b[0m \u001b[0;34m\u001b[0m\u001b[0m\n\u001b[0;32m---> 69\u001b[0;31m         \u001b[0;32mreturn\u001b[0m \u001b[0mmethod\u001b[0m\u001b[0;34m(\u001b[0m\u001b[0mself\u001b[0m\u001b[0;34m,\u001b[0m \u001b[0mother\u001b[0m\u001b[0;34m)\u001b[0m\u001b[0;34m\u001b[0m\u001b[0;34m\u001b[0m\u001b[0m\n\u001b[0m\u001b[1;32m     70\u001b[0m \u001b[0;34m\u001b[0m\u001b[0m\n\u001b[1;32m     71\u001b[0m     \u001b[0;32mreturn\u001b[0m \u001b[0mnew_method\u001b[0m\u001b[0;34m\u001b[0m\u001b[0;34m\u001b[0m\u001b[0m\n",
            "\u001b[0;32m/usr/local/lib/python3.7/dist-packages/pandas/core/arraylike.py\u001b[0m in \u001b[0;36m__sub__\u001b[0;34m(self, other)\u001b[0m\n\u001b[1;32m     98\u001b[0m     \u001b[0;34m@\u001b[0m\u001b[0munpack_zerodim_and_defer\u001b[0m\u001b[0;34m(\u001b[0m\u001b[0;34m\"__sub__\"\u001b[0m\u001b[0;34m)\u001b[0m\u001b[0;34m\u001b[0m\u001b[0;34m\u001b[0m\u001b[0m\n\u001b[1;32m     99\u001b[0m     \u001b[0;32mdef\u001b[0m \u001b[0m__sub__\u001b[0m\u001b[0;34m(\u001b[0m\u001b[0mself\u001b[0m\u001b[0;34m,\u001b[0m \u001b[0mother\u001b[0m\u001b[0;34m)\u001b[0m\u001b[0;34m:\u001b[0m\u001b[0;34m\u001b[0m\u001b[0;34m\u001b[0m\u001b[0m\n\u001b[0;32m--> 100\u001b[0;31m         \u001b[0;32mreturn\u001b[0m \u001b[0mself\u001b[0m\u001b[0;34m.\u001b[0m\u001b[0m_arith_method\u001b[0m\u001b[0;34m(\u001b[0m\u001b[0mother\u001b[0m\u001b[0;34m,\u001b[0m \u001b[0moperator\u001b[0m\u001b[0;34m.\u001b[0m\u001b[0msub\u001b[0m\u001b[0;34m)\u001b[0m\u001b[0;34m\u001b[0m\u001b[0;34m\u001b[0m\u001b[0m\n\u001b[0m\u001b[1;32m    101\u001b[0m \u001b[0;34m\u001b[0m\u001b[0m\n\u001b[1;32m    102\u001b[0m     \u001b[0;34m@\u001b[0m\u001b[0munpack_zerodim_and_defer\u001b[0m\u001b[0;34m(\u001b[0m\u001b[0;34m\"__rsub__\"\u001b[0m\u001b[0;34m)\u001b[0m\u001b[0;34m\u001b[0m\u001b[0;34m\u001b[0m\u001b[0m\n",
            "\u001b[0;32m/usr/local/lib/python3.7/dist-packages/pandas/core/series.py\u001b[0m in \u001b[0;36m_arith_method\u001b[0;34m(self, other, op)\u001b[0m\n\u001b[1;32m   5524\u001b[0m \u001b[0;34m\u001b[0m\u001b[0m\n\u001b[1;32m   5525\u001b[0m         \u001b[0;32mwith\u001b[0m \u001b[0mnp\u001b[0m\u001b[0;34m.\u001b[0m\u001b[0merrstate\u001b[0m\u001b[0;34m(\u001b[0m\u001b[0mall\u001b[0m\u001b[0;34m=\u001b[0m\u001b[0;34m\"ignore\"\u001b[0m\u001b[0;34m)\u001b[0m\u001b[0;34m:\u001b[0m\u001b[0;34m\u001b[0m\u001b[0;34m\u001b[0m\u001b[0m\n\u001b[0;32m-> 5526\u001b[0;31m             \u001b[0mresult\u001b[0m \u001b[0;34m=\u001b[0m \u001b[0mops\u001b[0m\u001b[0;34m.\u001b[0m\u001b[0marithmetic_op\u001b[0m\u001b[0;34m(\u001b[0m\u001b[0mlvalues\u001b[0m\u001b[0;34m,\u001b[0m \u001b[0mrvalues\u001b[0m\u001b[0;34m,\u001b[0m \u001b[0mop\u001b[0m\u001b[0;34m)\u001b[0m\u001b[0;34m\u001b[0m\u001b[0;34m\u001b[0m\u001b[0m\n\u001b[0m\u001b[1;32m   5527\u001b[0m \u001b[0;34m\u001b[0m\u001b[0m\n\u001b[1;32m   5528\u001b[0m         \u001b[0;32mreturn\u001b[0m \u001b[0mself\u001b[0m\u001b[0;34m.\u001b[0m\u001b[0m_construct_result\u001b[0m\u001b[0;34m(\u001b[0m\u001b[0mresult\u001b[0m\u001b[0;34m,\u001b[0m \u001b[0mname\u001b[0m\u001b[0;34m=\u001b[0m\u001b[0mres_name\u001b[0m\u001b[0;34m)\u001b[0m\u001b[0;34m\u001b[0m\u001b[0;34m\u001b[0m\u001b[0m\n",
            "\u001b[0;32m/usr/local/lib/python3.7/dist-packages/pandas/core/ops/array_ops.py\u001b[0m in \u001b[0;36marithmetic_op\u001b[0;34m(left, right, op)\u001b[0m\n\u001b[1;32m    222\u001b[0m         \u001b[0m_bool_arith_check\u001b[0m\u001b[0;34m(\u001b[0m\u001b[0mop\u001b[0m\u001b[0;34m,\u001b[0m \u001b[0mleft\u001b[0m\u001b[0;34m,\u001b[0m \u001b[0mright\u001b[0m\u001b[0;34m)\u001b[0m\u001b[0;34m\u001b[0m\u001b[0;34m\u001b[0m\u001b[0m\n\u001b[1;32m    223\u001b[0m \u001b[0;34m\u001b[0m\u001b[0m\n\u001b[0;32m--> 224\u001b[0;31m         \u001b[0mres_values\u001b[0m \u001b[0;34m=\u001b[0m \u001b[0m_na_arithmetic_op\u001b[0m\u001b[0;34m(\u001b[0m\u001b[0mleft\u001b[0m\u001b[0;34m,\u001b[0m \u001b[0mright\u001b[0m\u001b[0;34m,\u001b[0m \u001b[0mop\u001b[0m\u001b[0;34m)\u001b[0m\u001b[0;34m\u001b[0m\u001b[0;34m\u001b[0m\u001b[0m\n\u001b[0m\u001b[1;32m    225\u001b[0m \u001b[0;34m\u001b[0m\u001b[0m\n\u001b[1;32m    226\u001b[0m     \u001b[0;32mreturn\u001b[0m \u001b[0mres_values\u001b[0m\u001b[0;34m\u001b[0m\u001b[0;34m\u001b[0m\u001b[0m\n",
            "\u001b[0;32m/usr/local/lib/python3.7/dist-packages/pandas/core/ops/array_ops.py\u001b[0m in \u001b[0;36m_na_arithmetic_op\u001b[0;34m(left, right, op, is_cmp)\u001b[0m\n\u001b[1;32m    171\u001b[0m             \u001b[0;31m# Don't do this for comparisons, as that will handle complex numbers\u001b[0m\u001b[0;34m\u001b[0m\u001b[0;34m\u001b[0m\u001b[0;34m\u001b[0m\u001b[0m\n\u001b[1;32m    172\u001b[0m             \u001b[0;31m#  incorrectly, see GH#32047\u001b[0m\u001b[0;34m\u001b[0m\u001b[0;34m\u001b[0m\u001b[0;34m\u001b[0m\u001b[0m\n\u001b[0;32m--> 173\u001b[0;31m             \u001b[0mresult\u001b[0m \u001b[0;34m=\u001b[0m \u001b[0m_masked_arith_op\u001b[0m\u001b[0;34m(\u001b[0m\u001b[0mleft\u001b[0m\u001b[0;34m,\u001b[0m \u001b[0mright\u001b[0m\u001b[0;34m,\u001b[0m \u001b[0mop\u001b[0m\u001b[0;34m)\u001b[0m\u001b[0;34m\u001b[0m\u001b[0;34m\u001b[0m\u001b[0m\n\u001b[0m\u001b[1;32m    174\u001b[0m         \u001b[0;32melse\u001b[0m\u001b[0;34m:\u001b[0m\u001b[0;34m\u001b[0m\u001b[0;34m\u001b[0m\u001b[0m\n\u001b[1;32m    175\u001b[0m             \u001b[0;32mraise\u001b[0m\u001b[0;34m\u001b[0m\u001b[0;34m\u001b[0m\u001b[0m\n",
            "\u001b[0;32m/usr/local/lib/python3.7/dist-packages/pandas/core/ops/array_ops.py\u001b[0m in \u001b[0;36m_masked_arith_op\u001b[0;34m(x, y, op)\u001b[0m\n\u001b[1;32m    110\u001b[0m         \u001b[0;31m# See GH#5284, GH#5035, GH#19448 for historical reference\u001b[0m\u001b[0;34m\u001b[0m\u001b[0;34m\u001b[0m\u001b[0;34m\u001b[0m\u001b[0m\n\u001b[1;32m    111\u001b[0m         \u001b[0;32mif\u001b[0m \u001b[0mmask\u001b[0m\u001b[0;34m.\u001b[0m\u001b[0many\u001b[0m\u001b[0;34m(\u001b[0m\u001b[0;34m)\u001b[0m\u001b[0;34m:\u001b[0m\u001b[0;34m\u001b[0m\u001b[0;34m\u001b[0m\u001b[0m\n\u001b[0;32m--> 112\u001b[0;31m             \u001b[0mresult\u001b[0m\u001b[0;34m[\u001b[0m\u001b[0mmask\u001b[0m\u001b[0;34m]\u001b[0m \u001b[0;34m=\u001b[0m \u001b[0mop\u001b[0m\u001b[0;34m(\u001b[0m\u001b[0mxrav\u001b[0m\u001b[0;34m[\u001b[0m\u001b[0mmask\u001b[0m\u001b[0;34m]\u001b[0m\u001b[0;34m,\u001b[0m \u001b[0myrav\u001b[0m\u001b[0;34m[\u001b[0m\u001b[0mmask\u001b[0m\u001b[0;34m]\u001b[0m\u001b[0;34m)\u001b[0m\u001b[0;34m\u001b[0m\u001b[0;34m\u001b[0m\u001b[0m\n\u001b[0m\u001b[1;32m    113\u001b[0m \u001b[0;34m\u001b[0m\u001b[0m\n\u001b[1;32m    114\u001b[0m     \u001b[0;32melse\u001b[0m\u001b[0;34m:\u001b[0m\u001b[0;34m\u001b[0m\u001b[0;34m\u001b[0m\u001b[0m\n",
            "\u001b[0;31mTypeError\u001b[0m: unsupported operand type(s) for -: 'str' and 'str'"
          ]
        }
      ]
    },
    {
      "cell_type": "code",
      "source": [
        "import numpy as np\n",
        "import matplotlib.pyplot as plt\n",
        "x = df.iloc[:,0]\n",
        "y = -(df.iloc[:,1950]-df.iloc[:,1800])\n",
        "plt.plot(x,y)"
      ],
      "metadata": {
        "id": "NjoHhqwvpC4P",
        "outputId": "562ec258-8453-4542-d3bd-95df45f15254",
        "colab": {
          "base_uri": "https://localhost:8080/",
          "height": 282
        }
      },
      "execution_count": null,
      "outputs": [
        {
          "output_type": "execute_result",
          "data": {
            "text/plain": [
              "[<matplotlib.lines.Line2D at 0x7ff63f001910>]"
            ]
          },
          "metadata": {},
          "execution_count": 67
        },
        {
          "output_type": "display_data",
          "data": {
            "text/plain": [
              "<Figure size 432x288 with 1 Axes>"
            ],
            "image/png": "[encoded data removed]"
          },
          "metadata": {
            "needs_background": "light"
          }
        }
      ]
    },
    {
      "cell_type": "code",
      "source": [
        "import matplotlib.pyplot as plt\n",
        "x = df.iloc[:,0]\n",
        "y = df.iloc[:,1950]\n",
        "plt.plot(x,y)"
      ],
      "metadata": {
        "id": "D0jGcC4goMue",
        "outputId": "c026f57a-470a-4cb2-e81f-5869359b00e2",
        "colab": {
          "base_uri": "https://localhost:8080/",
          "height": 282
        }
      },
      "execution_count": null,
      "outputs": [
        {
          "output_type": "execute_result",
          "data": {
            "text/plain": [
              "[<matplotlib.lines.Line2D at 0x7ff63f9ac790>]"
            ]
          },
          "metadata": {},
          "execution_count": 68
        },
        {
          "output_type": "display_data",
          "data": {
            "text/plain": [
              "<Figure size 432x288 with 1 Axes>"
            ],
            "image/png": "[encoded data removed]"
          },
          "metadata": {
            "needs_background": "light"
          }
        }
      ]
    },
    {
      "cell_type": "code",
      "source": [
        "df.columns[2]"
      ],
      "metadata": {
        "id": "lN1F81bisksk",
        "outputId": "77025cd0-d52c-445d-ebb9-7acb0a9c333b",
        "colab": {
          "base_uri": "https://localhost:8080/",
          "height": 35
        }
      },
      "execution_count": null,
      "outputs": [
        {
          "output_type": "execute_result",
          "data": {
            "text/plain": [
              "'316.6137'"
            ],
            "application/vnd.google.colaboratory.intrinsic+json": {
              "type": "string"
            }
          },
          "metadata": {},
          "execution_count": 77
        }
      ]
    },
    {
      "cell_type": "code",
      "source": [
        "df.info()"
      ],
      "metadata": {
        "colab": {
          "base_uri": "https://localhost:8080/"
        },
        "id": "35KvpO523qo5",
        "outputId": "77fc0a80-1cc0-48a4-94ac-c8e0424668bd"
      },
      "execution_count": null,
      "outputs": [
        {
          "output_type": "stream",
          "name": "stdout",
          "text": [
            "<class 'pandas.core.frame.DataFrame'>\n",
            "RangeIndex: 355 entries, 0 to 354\n",
            "Columns: 3650 entries, Unnamed: 0 to 780.0381\n",
            "dtypes: float64(3648), int64(1), object(1)\n",
            "memory usage: 9.9+ MB\n"
          ]
        }
      ]
    },
    {
      "cell_type": "code",
      "source": [
        "df.to_csv('data-without-header')\n",
        "\n",
        "#def removeheader (N):\n",
        "#  with open(\"Textfile.txt\",\"w\") as textfile:\n",
        " #   file.write(#jetzt pfad zu header von Absorption file)\n",
        "\n"
      ],
      "metadata": {
        "id": "v3dBSgnr3vdJ"
      },
      "execution_count": null,
      "outputs": []
    },
    {
      "cell_type": "code",
      "source": [
        ""
      ],
      "metadata": {
        "id": "7gujKfwkMOaC",
        "outputId": "26187d78-80ff-4859-f348-e74fcab54764",
        "colab": {
          "base_uri": "https://localhost:8080/",
          "height": 287
        }
      },
      "execution_count": null,
      "outputs": [
        {
          "output_type": "error",
          "ename": "AttributeError",
          "evalue": "ignored",
          "traceback": [
            "\u001b[0;31m---------------------------------------------------------------------------\u001b[0m",
            "\u001b[0;31mAttributeError\u001b[0m                            Traceback (most recent call last)",
            "\u001b[0;32m<ipython-input-11-16bdb11b4b55>\u001b[0m in \u001b[0;36m<module>\u001b[0;34m()\u001b[0m\n\u001b[0;32m----> 1\u001b[0;31m \u001b[0mdf\u001b[0m\u001b[0;34m.\u001b[0m\u001b[0mread\u001b[0m\u001b[0;34m\u001b[0m\u001b[0;34m\u001b[0m\u001b[0m\n\u001b[0m",
            "\u001b[0;32m/usr/local/lib/python3.7/dist-packages/pandas/core/generic.py\u001b[0m in \u001b[0;36m__getattr__\u001b[0;34m(self, name)\u001b[0m\n\u001b[1;32m   5485\u001b[0m         ):\n\u001b[1;32m   5486\u001b[0m             \u001b[0;32mreturn\u001b[0m \u001b[0mself\u001b[0m\u001b[0;34m[\u001b[0m\u001b[0mname\u001b[0m\u001b[0;34m]\u001b[0m\u001b[0;34m\u001b[0m\u001b[0;34m\u001b[0m\u001b[0m\n\u001b[0;32m-> 5487\u001b[0;31m         \u001b[0;32mreturn\u001b[0m \u001b[0mobject\u001b[0m\u001b[0;34m.\u001b[0m\u001b[0m__getattribute__\u001b[0m\u001b[0;34m(\u001b[0m\u001b[0mself\u001b[0m\u001b[0;34m,\u001b[0m \u001b[0mname\u001b[0m\u001b[0;34m)\u001b[0m\u001b[0;34m\u001b[0m\u001b[0;34m\u001b[0m\u001b[0m\n\u001b[0m\u001b[1;32m   5488\u001b[0m \u001b[0;34m\u001b[0m\u001b[0m\n\u001b[1;32m   5489\u001b[0m     \u001b[0;32mdef\u001b[0m \u001b[0m__setattr__\u001b[0m\u001b[0;34m(\u001b[0m\u001b[0mself\u001b[0m\u001b[0;34m,\u001b[0m \u001b[0mname\u001b[0m\u001b[0;34m:\u001b[0m \u001b[0mstr\u001b[0m\u001b[0;34m,\u001b[0m \u001b[0mvalue\u001b[0m\u001b[0;34m)\u001b[0m \u001b[0;34m->\u001b[0m \u001b[0;32mNone\u001b[0m\u001b[0;34m:\u001b[0m\u001b[0;34m\u001b[0m\u001b[0;34m\u001b[0m\u001b[0m\n",
            "\u001b[0;31mAttributeError\u001b[0m: 'DataFrame' object has no attribute 'read'"
          ]
        }
      ]
    },
    {
      "cell_type": "code",
      "source": [
        "#header = (' ')\n",
        "#with open('Textfile.txt', 'w') as outstream:\n",
        " #    outstream.write(header)"
      ],
      "metadata": {
        "id": "4WLTJmCwLr3Q"
      },
      "execution_count": null,
      "outputs": []
    },
    {
      "cell_type": "code",
      "source": [
        "with open(path, 'r') as instream:\n",
        "    print(instream.readline())\n",
        "    print(instream.readline())\n",
        "    print(instream.readline())"
      ],
      "metadata": {
        "colab": {
          "base_uri": "https://localhost:8080/"
        },
        "id": "B7J6pney3y1C",
        "outputId": "03c3b9f0-16b7-4c7d-fca0-504de887ddf9"
      },
      "execution_count": null,
      "outputs": [
        {
          "output_type": "stream",
          "name": "stdout",
          "text": [
            "Data from 4ms_10 av_15 s_Absorbance_10-32-04-868.txt Node\n",
            "\n",
            "\n",
            "\n",
            "Date: Thu Oct 25 10:32:04 CEST 2018\n",
            "\n"
          ]
        }
      ]
    },
    {
      "cell_type": "code",
      "source": [
        "def copyheader ():# works but does it saves the wright thing?\n",
        "  header = ''\n",
        "with open(path, 'r') as instream:\n",
        "     textlines = instream.readlines()\n",
        "for i in range(14):\n",
        "     print(textlines[i])"
      ],
      "metadata": {
        "id": "nQNBt78M8Grq",
        "outputId": "855503a9-d35a-46f9-c850-8e0ad0f73334",
        "colab": {
          "base_uri": "https://localhost:8080/"
        }
      },
      "execution_count": null,
      "outputs": [
        {
          "output_type": "stream",
          "name": "stdout",
          "text": [
            "Data from 4ms_10 av_15 s_Absorbance_10-32-04-868.txt Node\n",
            "\n",
            "\n",
            "\n",
            "Date: Thu Oct 25 10:32:04 CEST 2018\n",
            "\n",
            "User: Christoph\n",
            "\n",
            "Spectrometer: BALLMOOS\n",
            "\n",
            "Trigger mode: 4\n",
            "\n",
            "Integration Time (sec): 4.000000E-3\n",
            "\n",
            "Scans to average: 10\n",
            "\n",
            "Electric dark correction enabled: true\n",
            "\n",
            "Nonlinearity correction enabled: false\n",
            "\n",
            "Boxcar width: 0\n",
            "\n",
            "XAxis mode: Wavelengths\n",
            "\n",
            "Number of Pixels in Spectrum: 3648\n",
            "\n",
            ">>>>>Begin Spectral Data<<<<<\n",
            "\n"
          ]
        }
      ]
    },
    {
      "cell_type": "code",
      "source": [
        "def copyheader ():\n",
        "  header = '' \n",
        "with open(path, 'r') as instream:\n",
        "     textlines = instream.readlines()\n",
        "for i in range(14):\n",
        "     header= header + str(textlines[i])\n",
        "print(header)"
      ],
      "metadata": {
        "id": "6su7Qg6T06ys",
        "outputId": "1d59db52-0767-4086-8d28-0480f2a7deba",
        "colab": {
          "base_uri": "https://localhost:8080/"
        }
      },
      "execution_count": null,
      "outputs": [
        {
          "output_type": "stream",
          "name": "stdout",
          "text": [
            ">>>>>Begin Spectral Data<<<<<\n",
            "Data from 4ms_10 av_15 s_Absorbance_10-32-04-868.txt Node\n",
            "\n",
            "Date: Thu Oct 25 10:32:04 CEST 2018\n",
            "User: Christoph\n",
            "Spectrometer: BALLMOOS\n",
            "Trigger mode: 4\n",
            "Integration Time (sec): 4.000000E-3\n",
            "Scans to average: 10\n",
            "Electric dark correction enabled: true\n",
            "Nonlinearity correction enabled: false\n",
            "Boxcar width: 0\n",
            "XAxis mode: Wavelengths\n",
            "Number of Pixels in Spectrum: 3648\n",
            ">>>>>Begin Spectral Data<<<<<\n",
            "Data from 4ms_10 av_15 s_Absorbance_10-32-04-868.txt Node\n",
            "\n",
            "Date: Thu Oct 25 10:32:04 CEST 2018\n",
            "User: Christoph\n",
            "Spectrometer: BALLMOOS\n",
            "Trigger mode: 4\n",
            "Integration Time (sec): 4.000000E-3\n",
            "Scans to average: 10\n",
            "Electric dark correction enabled: true\n",
            "Nonlinearity correction enabled: false\n",
            "Boxcar width: 0\n",
            "XAxis mode: Wavelengths\n",
            "Number of Pixels in Spectrum: 3648\n",
            ">>>>>Begin Spectral Data<<<<<\n",
            "Data from 4ms_10 av_15 s_Absorbance_10-32-04-868.txt Node\n",
            "\n",
            "Date: Thu Oct 25 10:32:04 CEST 2018\n",
            "User: Christoph\n",
            "Spectrometer: BALLMOOS\n",
            "Trigger mode: 4\n",
            "Integration Time (sec): 4.000000E-3\n",
            "Scans to average: 10\n",
            "Electric dark correction enabled: true\n",
            "Nonlinearity correction enabled: false\n",
            "Boxcar width: 0\n",
            "XAxis mode: Wavelengths\n",
            "Number of Pixels in Spectrum: 3648\n",
            ">>>>>Begin Spectral Data<<<<<\n",
            "Data from 4ms_10 av_15 s_Absorbance_10-32-04-868.txt Node\n",
            "\n",
            "Date: Thu Oct 25 10:32:04 CEST 2018\n",
            "User: Christoph\n",
            "Spectrometer: BALLMOOS\n",
            "Trigger mode: 4\n",
            "Integration Time (sec): 4.000000E-3\n",
            "Scans to average: 10\n",
            "Electric dark correction enabled: true\n",
            "Nonlinearity correction enabled: false\n",
            "Boxcar width: 0\n",
            "XAxis mode: Wavelengths\n",
            "Number of Pixels in Spectrum: 3648\n",
            ">>>>>Begin Spectral Data<<<<<\n",
            "Data from 4ms_10 av_15 s_Absorbance_10-32-04-868.txt Node\n",
            "\n",
            "Date: Thu Oct 25 10:32:04 CEST 2018\n",
            "User: Christoph\n",
            "Spectrometer: BALLMOOS\n",
            "Trigger mode: 4\n",
            "Integration Time (sec): 4.000000E-3\n",
            "Scans to average: 10\n",
            "Electric dark correction enabled: true\n",
            "Nonlinearity correction enabled: false\n",
            "Boxcar width: 0\n",
            "XAxis mode: Wavelengths\n",
            "Number of Pixels in Spectrum: 3648\n",
            ">>>>>Begin Spectral Data<<<<<\n",
            "\n"
          ]
        }
      ]
    },
    {
      "cell_type": "code",
      "source": [
        "headerfile = open(\"Header.txt\", 'w+')\n",
        "headerfile.write(header)\n",
        "headerfile.close()"
      ],
      "metadata": {
        "id": "gsVybcfX1YgB"
      },
      "execution_count": null,
      "outputs": []
    },
    {
      "cell_type": "code",
      "source": [
        "with open('Header.txt', 'r') as instream:\n",
        "  print(instream.readline())\n",
        "  print(instream.readline())\n",
        "  print(instream.readline())\n",
        "\n"
      ],
      "metadata": {
        "id": "17JhgEXR2oui",
        "outputId": "de284fd1-f3ab-4aad-a610-90303d1ae089",
        "colab": {
          "base_uri": "https://localhost:8080/"
        }
      },
      "execution_count": null,
      "outputs": [
        {
          "output_type": "stream",
          "name": "stdout",
          "text": [
            ">>>>>Begin Spectral Data<<<<<\n",
            "\n",
            "\n",
            "\n"
          ]
        }
      ]
    },
    {
      "cell_type": "code",
      "source": [
        "df = pd.read_csv(path, delimiter='\\t', header = 13)"
      ],
      "metadata": {
        "id": "jqCTq-vWM5vz"
      },
      "execution_count": null,
      "outputs": []
    },
    {
      "cell_type": "code",
      "source": [
        "data = open(\"Absorbance.txt\", \"r\")\n",
        "\n",
        "for line in data.readlines():\n",
        "    print(line)\n",
        "data.close()"
      ],
      "metadata": {
        "id": "6LEJVgkwNcz5"
      },
      "execution_count": null,
      "outputs": []
    },
    {
      "cell_type": "code",
      "source": [
        "# open the sample file used\n",
        "data = open('Absorbance.txt', 'r')\n",
        "  \n",
        "# read the content of the file opened\n",
        "content = data.readlines()\n",
        "  \n",
        "# read 10th line from the file\n",
        "print(\"tenth line\")\n",
        "print(content[9])\n",
        "  \n",
        "# print first 3 lines of file\n",
        "print(\"first three lines\")\n",
        "print(content[0:3])"
      ],
      "metadata": {
        "id": "hSjkfPA1PZgL",
        "outputId": "d223896d-ffea-44a3-c7d4-f4699a956f6e",
        "colab": {
          "base_uri": "https://localhost:8080/",
          "height": 253
        }
      },
      "execution_count": null,
      "outputs": [
        {
          "output_type": "stream",
          "name": "stdout",
          "text": [
            "tenth line\n"
          ]
        },
        {
          "output_type": "error",
          "ename": "IndexError",
          "evalue": "ignored",
          "traceback": [
            "\u001b[0;31m---------------------------------------------------------------------------\u001b[0m",
            "\u001b[0;31mIndexError\u001b[0m                                Traceback (most recent call last)",
            "\u001b[0;32m<ipython-input-36-f14b80c0f4fc>\u001b[0m in \u001b[0;36m<module>\u001b[0;34m()\u001b[0m\n\u001b[1;32m      7\u001b[0m \u001b[0;31m# read 10th line from the file\u001b[0m\u001b[0;34m\u001b[0m\u001b[0;34m\u001b[0m\u001b[0;34m\u001b[0m\u001b[0m\n\u001b[1;32m      8\u001b[0m \u001b[0mprint\u001b[0m\u001b[0;34m(\u001b[0m\u001b[0;34m\"tenth line\"\u001b[0m\u001b[0;34m)\u001b[0m\u001b[0;34m\u001b[0m\u001b[0;34m\u001b[0m\u001b[0m\n\u001b[0;32m----> 9\u001b[0;31m \u001b[0mprint\u001b[0m\u001b[0;34m(\u001b[0m\u001b[0mcontent\u001b[0m\u001b[0;34m[\u001b[0m\u001b[0;36m9\u001b[0m\u001b[0;34m]\u001b[0m\u001b[0;34m)\u001b[0m\u001b[0;34m\u001b[0m\u001b[0;34m\u001b[0m\u001b[0m\n\u001b[0m\u001b[1;32m     10\u001b[0m \u001b[0;34m\u001b[0m\u001b[0m\n\u001b[1;32m     11\u001b[0m \u001b[0;31m# print first 3 lines of file\u001b[0m\u001b[0;34m\u001b[0m\u001b[0;34m\u001b[0m\u001b[0;34m\u001b[0m\u001b[0m\n",
            "\u001b[0;31mIndexError\u001b[0m: list index out of range"
          ]
        }
      ]
    },
    {
      "cell_type": "code",
      "source": [
        "data = open('Absorbance.txt', 'r')\n",
        "sep = data.read(20 - 0)\n",
        "print (sep)"
      ],
      "metadata": {
        "id": "Rgd6-XlpPxcE",
        "outputId": "48bdacdb-0897-489e-9e38-575a38c670be",
        "colab": {
          "base_uri": "https://localhost:8080/"
        }
      },
      "execution_count": null,
      "outputs": [
        {
          "output_type": "stream",
          "name": "stdout",
          "text": [
            "\n"
          ]
        }
      ]
    },
    {
      "cell_type": "code",
      "source": [
        "from google.colab import drive\n",
        "drive.mount('/content/drive')\n",
        "path = '/content/drive/MyDrive/Data science/Absorbance.txt' \n"
      ],
      "metadata": {
        "id": "SdFDAy-KQ08q",
        "outputId": "0652daf5-3843-4056-ebdd-59abc1a42d46",
        "colab": {
          "base_uri": "https://localhost:8080/"
        }
      },
      "execution_count": null,
      "outputs": [
        {
          "output_type": "stream",
          "name": "stdout",
          "text": [
            "Drive already mounted at /content/drive; to attempt to forcibly remount, call drive.mount(\"/content/drive\", force_remount=True).\n"
          ]
        }
      ]
    },
    {
      "cell_type": "code",
      "source": [
        "data = open('Absorbance.txt', 'r')\n",
        "sep = data.read(20 - 0)\n",
        "print (sep)"
      ],
      "metadata": {
        "id": "Xp1TSmg6RVVr",
        "outputId": "2607093a-7d9c-44df-8058-4ba0d6c92bc4",
        "colab": {
          "base_uri": "https://localhost:8080/"
        }
      },
      "execution_count": null,
      "outputs": [
        {
          "output_type": "stream",
          "name": "stdout",
          "text": [
            "\n"
          ]
        }
      ]
    },
    {
      "cell_type": "code",
      "source": [
        "data.seek(5)\n",
        "sep = data.read(20 - 5)\n",
        "print (sep)"
      ],
      "metadata": {
        "id": "9_SXl7GuRXiQ",
        "outputId": "062c6c7c-53a5-4e85-cf92-a6fc9ea28a8e",
        "colab": {
          "base_uri": "https://localhost:8080/"
        }
      },
      "execution_count": null,
      "outputs": [
        {
          "output_type": "stream",
          "name": "stdout",
          "text": [
            "\n"
          ]
        }
      ]
    },
    {
      "cell_type": "code",
      "source": [
        ""
      ],
      "metadata": {
        "id": "7YcEQ9jsRqKe"
      },
      "execution_count": null,
      "outputs": []
    }
  ]
}